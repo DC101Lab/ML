{
 "cells": [
  {
   "cell_type": "code",
   "execution_count": 1,
   "metadata": {},
   "outputs": [],
   "source": [
    "import pandas as pd\n",
    "import matplotlib.pyplot as plt\n",
    "import seaborn as sns\n",
    "import numpy as np\n",
    "from scipy.stats import norm\n",
    "from sklearn.preprocessing import StandardScaler\n",
    "from scipy import stats\n",
    "import warnings\n",
    "warnings.filterwarnings('ignore')\n",
    "%matplotlib inline"
   ]
  },
  {
   "cell_type": "code",
   "execution_count": 2,
   "metadata": {},
   "outputs": [],
   "source": [
    "#read csv\n",
    "df = pd.read_csv('dataset/Data Set (Analisa).csv',delimiter=\";\")\n"
   ]
  },
  {
   "cell_type": "code",
   "execution_count": 3,
   "metadata": {},
   "outputs": [
    {
     "data": {
      "text/html": [
       "<div>\n",
       "<style scoped>\n",
       "    .dataframe tbody tr th:only-of-type {\n",
       "        vertical-align: middle;\n",
       "    }\n",
       "\n",
       "    .dataframe tbody tr th {\n",
       "        vertical-align: top;\n",
       "    }\n",
       "\n",
       "    .dataframe thead th {\n",
       "        text-align: right;\n",
       "    }\n",
       "</style>\n",
       "<table border=\"1\" class=\"dataframe\">\n",
       "  <thead>\n",
       "    <tr style=\"text-align: right;\">\n",
       "      <th></th>\n",
       "      <th>CN #</th>\n",
       "      <th>Penerima</th>\n",
       "      <th>Perusahaan</th>\n",
       "      <th>Alamat</th>\n",
       "      <th>Wilayah</th>\n",
       "      <th>Isi Kiriman</th>\n",
       "      <th>SP</th>\n",
       "      <th>Biaya Kirim</th>\n",
       "      <th>Diskon</th>\n",
       "      <th>Total</th>\n",
       "    </tr>\n",
       "  </thead>\n",
       "  <tbody>\n",
       "    <tr>\n",
       "      <th>0</th>\n",
       "      <td>30071073722</td>\n",
       "      <td>NIMAS AYU</td>\n",
       "      <td>-</td>\n",
       "      <td>TEMENGGUNG RT. 04 RW. 03 NO. 19</td>\n",
       "      <td>AMBARAWA SEMARANG</td>\n",
       "      <td>DOMPET</td>\n",
       "      <td>SPANDUK</td>\n",
       "      <td>Rp23,000.00</td>\n",
       "      <td>Rp0.00</td>\n",
       "      <td>Rp23,000.00</td>\n",
       "    </tr>\n",
       "    <tr>\n",
       "      <th>1</th>\n",
       "      <td>30071073723</td>\n",
       "      <td>BPK ANDDREE WIDIHUTOMO</td>\n",
       "      <td>PT STANLEY BLACK &amp; DECKER</td>\n",
       "      <td>JLN PROF DR SATRIO NO 164</td>\n",
       "      <td>JAKARTA - DKI JAKARTA</td>\n",
       "      <td>DOKUMEN</td>\n",
       "      <td>PERIKLANAN</td>\n",
       "      <td>Rp13,000.00</td>\n",
       "      <td>Rp0.00</td>\n",
       "      <td>Rp13,000.00</td>\n",
       "    </tr>\n",
       "    <tr>\n",
       "      <th>2</th>\n",
       "      <td>30071073724</td>\n",
       "      <td>MRS DINNA</td>\n",
       "      <td>PT SAMUDERA INDUSTRI</td>\n",
       "      <td>JL TERUSAN KOPO KM 11 NO 76</td>\n",
       "      <td>BANDUNG - JAWA BARAT</td>\n",
       "      <td>DOKUMEN</td>\n",
       "      <td>PERIKLANAN</td>\n",
       "      <td>Rp20,000.00</td>\n",
       "      <td>Rp0.00</td>\n",
       "      <td>Rp20,000.00</td>\n",
       "    </tr>\n",
       "    <tr>\n",
       "      <th>3</th>\n",
       "      <td>30071073725</td>\n",
       "      <td>IBU MAYA</td>\n",
       "      <td>PT RAMA INDONESIA</td>\n",
       "      <td>JL DURMAN RUKO NO 24 G BLKNG SMA 4 GARDYATI</td>\n",
       "      <td>BANDUNG</td>\n",
       "      <td>DOKUMEN</td>\n",
       "      <td>PERIKLANAN</td>\n",
       "      <td>Rp14,000.00</td>\n",
       "      <td>Rp0.00</td>\n",
       "      <td>Rp14,000.00</td>\n",
       "    </tr>\n",
       "    <tr>\n",
       "      <th>4</th>\n",
       "      <td>30071073726</td>\n",
       "      <td>ANSORI</td>\n",
       "      <td>BAROKAH FOTO COPY</td>\n",
       "      <td>JLN TEUKU UMAR NO 20 RT 4/8</td>\n",
       "      <td>TANGERANG - BANTEN</td>\n",
       "      <td>BAWANG GORENG</td>\n",
       "      <td>SPANDUK</td>\n",
       "      <td>Rp14,000.00</td>\n",
       "      <td>Rp0.00</td>\n",
       "      <td>Rp14,000.00</td>\n",
       "    </tr>\n",
       "  </tbody>\n",
       "</table>\n",
       "</div>"
      ],
      "text/plain": [
       "          CN #                Penerima                 Perusahaan  \\\n",
       "0  30071073722              NIMAS AYU                           -   \n",
       "1  30071073723  BPK ANDDREE WIDIHUTOMO  PT STANLEY BLACK & DECKER   \n",
       "2  30071073724               MRS DINNA       PT SAMUDERA INDUSTRI   \n",
       "3  30071073725                IBU MAYA          PT RAMA INDONESIA   \n",
       "4  30071073726                  ANSORI          BAROKAH FOTO COPY   \n",
       "\n",
       "                                        Alamat                Wilayah  \\\n",
       "0              TEMENGGUNG RT. 04 RW. 03 NO. 19      AMBARAWA SEMARANG   \n",
       "1                    JLN PROF DR SATRIO NO 164  JAKARTA - DKI JAKARTA   \n",
       "2                  JL TERUSAN KOPO KM 11 NO 76   BANDUNG - JAWA BARAT   \n",
       "3  JL DURMAN RUKO NO 24 G BLKNG SMA 4 GARDYATI                BANDUNG   \n",
       "4                 JLN TEUKU UMAR NO 20 RT 4/8      TANGERANG - BANTEN   \n",
       "\n",
       "     Isi Kiriman          SP   Biaya Kirim   Diskon         Total  \n",
       "0         DOMPET     SPANDUK  Rp23,000.00   Rp0.00   Rp23,000.00   \n",
       "1        DOKUMEN  PERIKLANAN  Rp13,000.00   Rp0.00   Rp13,000.00   \n",
       "2        DOKUMEN  PERIKLANAN  Rp20,000.00   Rp0.00   Rp20,000.00   \n",
       "3        DOKUMEN  PERIKLANAN  Rp14,000.00   Rp0.00   Rp14,000.00   \n",
       "4  BAWANG GORENG     SPANDUK  Rp14,000.00   Rp0.00   Rp14,000.00   "
      ]
     },
     "execution_count": 3,
     "metadata": {},
     "output_type": "execute_result"
    }
   ],
   "source": [
    "#show data\n",
    "df.head()"
   ]
  },
  {
   "cell_type": "code",
   "execution_count": 4,
   "metadata": {},
   "outputs": [
    {
     "name": "stdout",
     "output_type": "stream",
     "text": [
      "<class 'pandas.core.frame.DataFrame'>\n",
      "RangeIndex: 2148 entries, 0 to 2147\n",
      "Data columns (total 10 columns):\n",
      "CN #           2148 non-null int64\n",
      "Penerima       2148 non-null object\n",
      "Perusahaan     1443 non-null object\n",
      "Alamat         2148 non-null object\n",
      "Wilayah        2148 non-null object\n",
      "Isi Kiriman    2148 non-null object\n",
      "SP             2148 non-null object\n",
      "Biaya Kirim    2148 non-null object\n",
      "Diskon         2148 non-null object\n",
      "Total          2148 non-null object\n",
      "dtypes: int64(1), object(9)\n",
      "memory usage: 167.9+ KB\n"
     ]
    }
   ],
   "source": [
    "df.info()"
   ]
  },
  {
   "cell_type": "code",
   "execution_count": 5,
   "metadata": {},
   "outputs": [],
   "source": [
    "df.Perusahaan.fillna('Pribadi',inplace = True)"
   ]
  },
  {
   "cell_type": "code",
   "execution_count": 6,
   "metadata": {},
   "outputs": [
    {
     "name": "stdout",
     "output_type": "stream",
     "text": [
      "<class 'pandas.core.frame.DataFrame'>\n",
      "RangeIndex: 2148 entries, 0 to 2147\n",
      "Data columns (total 10 columns):\n",
      "CN #           2148 non-null int64\n",
      "Penerima       2148 non-null object\n",
      "Perusahaan     2148 non-null object\n",
      "Alamat         2148 non-null object\n",
      "Wilayah        2148 non-null object\n",
      "Isi Kiriman    2148 non-null object\n",
      "SP             2148 non-null object\n",
      "Biaya Kirim    2148 non-null object\n",
      "Diskon         2148 non-null object\n",
      "Total          2148 non-null object\n",
      "dtypes: int64(1), object(9)\n",
      "memory usage: 167.9+ KB\n"
     ]
    }
   ],
   "source": [
    "df.info()"
   ]
  },
  {
   "cell_type": "code",
   "execution_count": 7,
   "metadata": {},
   "outputs": [],
   "source": [
    "df['Total']=(df['Total'].replace( '[Rp,)]','', regex=True ) .replace( '[(]','-',   regex=True ).astype(float))"
   ]
  },
  {
   "cell_type": "code",
   "execution_count": 8,
   "metadata": {},
   "outputs": [
    {
     "data": {
      "text/html": [
       "<div>\n",
       "<style scoped>\n",
       "    .dataframe tbody tr th:only-of-type {\n",
       "        vertical-align: middle;\n",
       "    }\n",
       "\n",
       "    .dataframe tbody tr th {\n",
       "        vertical-align: top;\n",
       "    }\n",
       "\n",
       "    .dataframe thead th {\n",
       "        text-align: right;\n",
       "    }\n",
       "</style>\n",
       "<table border=\"1\" class=\"dataframe\">\n",
       "  <thead>\n",
       "    <tr style=\"text-align: right;\">\n",
       "      <th></th>\n",
       "      <th>CN #</th>\n",
       "      <th>Penerima</th>\n",
       "      <th>Perusahaan</th>\n",
       "      <th>Alamat</th>\n",
       "      <th>Wilayah</th>\n",
       "      <th>Isi Kiriman</th>\n",
       "      <th>SP</th>\n",
       "      <th>Biaya Kirim</th>\n",
       "      <th>Diskon</th>\n",
       "      <th>Total</th>\n",
       "    </tr>\n",
       "  </thead>\n",
       "  <tbody>\n",
       "    <tr>\n",
       "      <th>0</th>\n",
       "      <td>30071073722</td>\n",
       "      <td>NIMAS AYU</td>\n",
       "      <td>-</td>\n",
       "      <td>TEMENGGUNG RT. 04 RW. 03 NO. 19</td>\n",
       "      <td>AMBARAWA SEMARANG</td>\n",
       "      <td>DOMPET</td>\n",
       "      <td>SPANDUK</td>\n",
       "      <td>Rp23,000.00</td>\n",
       "      <td>Rp0.00</td>\n",
       "      <td>23000.0</td>\n",
       "    </tr>\n",
       "    <tr>\n",
       "      <th>1</th>\n",
       "      <td>30071073723</td>\n",
       "      <td>BPK ANDDREE WIDIHUTOMO</td>\n",
       "      <td>PT STANLEY BLACK &amp; DECKER</td>\n",
       "      <td>JLN PROF DR SATRIO NO 164</td>\n",
       "      <td>JAKARTA - DKI JAKARTA</td>\n",
       "      <td>DOKUMEN</td>\n",
       "      <td>PERIKLANAN</td>\n",
       "      <td>Rp13,000.00</td>\n",
       "      <td>Rp0.00</td>\n",
       "      <td>13000.0</td>\n",
       "    </tr>\n",
       "    <tr>\n",
       "      <th>2</th>\n",
       "      <td>30071073724</td>\n",
       "      <td>MRS DINNA</td>\n",
       "      <td>PT SAMUDERA INDUSTRI</td>\n",
       "      <td>JL TERUSAN KOPO KM 11 NO 76</td>\n",
       "      <td>BANDUNG - JAWA BARAT</td>\n",
       "      <td>DOKUMEN</td>\n",
       "      <td>PERIKLANAN</td>\n",
       "      <td>Rp20,000.00</td>\n",
       "      <td>Rp0.00</td>\n",
       "      <td>20000.0</td>\n",
       "    </tr>\n",
       "    <tr>\n",
       "      <th>3</th>\n",
       "      <td>30071073725</td>\n",
       "      <td>IBU MAYA</td>\n",
       "      <td>PT RAMA INDONESIA</td>\n",
       "      <td>JL DURMAN RUKO NO 24 G BLKNG SMA 4 GARDYATI</td>\n",
       "      <td>BANDUNG</td>\n",
       "      <td>DOKUMEN</td>\n",
       "      <td>PERIKLANAN</td>\n",
       "      <td>Rp14,000.00</td>\n",
       "      <td>Rp0.00</td>\n",
       "      <td>14000.0</td>\n",
       "    </tr>\n",
       "    <tr>\n",
       "      <th>4</th>\n",
       "      <td>30071073726</td>\n",
       "      <td>ANSORI</td>\n",
       "      <td>BAROKAH FOTO COPY</td>\n",
       "      <td>JLN TEUKU UMAR NO 20 RT 4/8</td>\n",
       "      <td>TANGERANG - BANTEN</td>\n",
       "      <td>BAWANG GORENG</td>\n",
       "      <td>SPANDUK</td>\n",
       "      <td>Rp14,000.00</td>\n",
       "      <td>Rp0.00</td>\n",
       "      <td>14000.0</td>\n",
       "    </tr>\n",
       "  </tbody>\n",
       "</table>\n",
       "</div>"
      ],
      "text/plain": [
       "          CN #                Penerima                 Perusahaan  \\\n",
       "0  30071073722              NIMAS AYU                           -   \n",
       "1  30071073723  BPK ANDDREE WIDIHUTOMO  PT STANLEY BLACK & DECKER   \n",
       "2  30071073724               MRS DINNA       PT SAMUDERA INDUSTRI   \n",
       "3  30071073725                IBU MAYA          PT RAMA INDONESIA   \n",
       "4  30071073726                  ANSORI          BAROKAH FOTO COPY   \n",
       "\n",
       "                                        Alamat                Wilayah  \\\n",
       "0              TEMENGGUNG RT. 04 RW. 03 NO. 19      AMBARAWA SEMARANG   \n",
       "1                    JLN PROF DR SATRIO NO 164  JAKARTA - DKI JAKARTA   \n",
       "2                  JL TERUSAN KOPO KM 11 NO 76   BANDUNG - JAWA BARAT   \n",
       "3  JL DURMAN RUKO NO 24 G BLKNG SMA 4 GARDYATI                BANDUNG   \n",
       "4                 JLN TEUKU UMAR NO 20 RT 4/8      TANGERANG - BANTEN   \n",
       "\n",
       "     Isi Kiriman          SP   Biaya Kirim   Diskon    Total  \n",
       "0         DOMPET     SPANDUK  Rp23,000.00   Rp0.00   23000.0  \n",
       "1        DOKUMEN  PERIKLANAN  Rp13,000.00   Rp0.00   13000.0  \n",
       "2        DOKUMEN  PERIKLANAN  Rp20,000.00   Rp0.00   20000.0  \n",
       "3        DOKUMEN  PERIKLANAN  Rp14,000.00   Rp0.00   14000.0  \n",
       "4  BAWANG GORENG     SPANDUK  Rp14,000.00   Rp0.00   14000.0  "
      ]
     },
     "execution_count": 8,
     "metadata": {},
     "output_type": "execute_result"
    }
   ],
   "source": [
    "df.head()"
   ]
  },
  {
   "cell_type": "code",
   "execution_count": 197,
   "metadata": {},
   "outputs": [],
   "source": [
    "df['Biaya Kirim']=(df['Biaya Kirim'].replace( '[Rp,)]','', regex=True ) .replace( '[(]','-',   regex=True ).astype(float))"
   ]
  },
  {
   "cell_type": "code",
   "execution_count": 10,
   "metadata": {},
   "outputs": [
    {
     "data": {
      "text/html": [
       "<div>\n",
       "<style scoped>\n",
       "    .dataframe tbody tr th:only-of-type {\n",
       "        vertical-align: middle;\n",
       "    }\n",
       "\n",
       "    .dataframe tbody tr th {\n",
       "        vertical-align: top;\n",
       "    }\n",
       "\n",
       "    .dataframe thead th {\n",
       "        text-align: right;\n",
       "    }\n",
       "</style>\n",
       "<table border=\"1\" class=\"dataframe\">\n",
       "  <thead>\n",
       "    <tr style=\"text-align: right;\">\n",
       "      <th></th>\n",
       "      <th>CN #</th>\n",
       "      <th>Penerima</th>\n",
       "      <th>Perusahaan</th>\n",
       "      <th>Alamat</th>\n",
       "      <th>Wilayah</th>\n",
       "      <th>Isi Kiriman</th>\n",
       "      <th>SP</th>\n",
       "      <th>Biaya Kirim</th>\n",
       "      <th>Diskon</th>\n",
       "      <th>Total</th>\n",
       "    </tr>\n",
       "  </thead>\n",
       "  <tbody>\n",
       "    <tr>\n",
       "      <th>0</th>\n",
       "      <td>30071073722</td>\n",
       "      <td>NIMAS AYU</td>\n",
       "      <td>-</td>\n",
       "      <td>TEMENGGUNG RT. 04 RW. 03 NO. 19</td>\n",
       "      <td>AMBARAWA SEMARANG</td>\n",
       "      <td>DOMPET</td>\n",
       "      <td>SPANDUK</td>\n",
       "      <td>23000.0</td>\n",
       "      <td>Rp0.00</td>\n",
       "      <td>23000.0</td>\n",
       "    </tr>\n",
       "    <tr>\n",
       "      <th>1</th>\n",
       "      <td>30071073723</td>\n",
       "      <td>BPK ANDDREE WIDIHUTOMO</td>\n",
       "      <td>PT STANLEY BLACK &amp; DECKER</td>\n",
       "      <td>JLN PROF DR SATRIO NO 164</td>\n",
       "      <td>JAKARTA - DKI JAKARTA</td>\n",
       "      <td>DOKUMEN</td>\n",
       "      <td>PERIKLANAN</td>\n",
       "      <td>13000.0</td>\n",
       "      <td>Rp0.00</td>\n",
       "      <td>13000.0</td>\n",
       "    </tr>\n",
       "    <tr>\n",
       "      <th>2</th>\n",
       "      <td>30071073724</td>\n",
       "      <td>MRS DINNA</td>\n",
       "      <td>PT SAMUDERA INDUSTRI</td>\n",
       "      <td>JL TERUSAN KOPO KM 11 NO 76</td>\n",
       "      <td>BANDUNG - JAWA BARAT</td>\n",
       "      <td>DOKUMEN</td>\n",
       "      <td>PERIKLANAN</td>\n",
       "      <td>20000.0</td>\n",
       "      <td>Rp0.00</td>\n",
       "      <td>20000.0</td>\n",
       "    </tr>\n",
       "    <tr>\n",
       "      <th>3</th>\n",
       "      <td>30071073725</td>\n",
       "      <td>IBU MAYA</td>\n",
       "      <td>PT RAMA INDONESIA</td>\n",
       "      <td>JL DURMAN RUKO NO 24 G BLKNG SMA 4 GARDYATI</td>\n",
       "      <td>BANDUNG</td>\n",
       "      <td>DOKUMEN</td>\n",
       "      <td>PERIKLANAN</td>\n",
       "      <td>14000.0</td>\n",
       "      <td>Rp0.00</td>\n",
       "      <td>14000.0</td>\n",
       "    </tr>\n",
       "    <tr>\n",
       "      <th>4</th>\n",
       "      <td>30071073726</td>\n",
       "      <td>ANSORI</td>\n",
       "      <td>BAROKAH FOTO COPY</td>\n",
       "      <td>JLN TEUKU UMAR NO 20 RT 4/8</td>\n",
       "      <td>TANGERANG - BANTEN</td>\n",
       "      <td>BAWANG GORENG</td>\n",
       "      <td>SPANDUK</td>\n",
       "      <td>14000.0</td>\n",
       "      <td>Rp0.00</td>\n",
       "      <td>14000.0</td>\n",
       "    </tr>\n",
       "  </tbody>\n",
       "</table>\n",
       "</div>"
      ],
      "text/plain": [
       "          CN #                Penerima                 Perusahaan  \\\n",
       "0  30071073722              NIMAS AYU                           -   \n",
       "1  30071073723  BPK ANDDREE WIDIHUTOMO  PT STANLEY BLACK & DECKER   \n",
       "2  30071073724               MRS DINNA       PT SAMUDERA INDUSTRI   \n",
       "3  30071073725                IBU MAYA          PT RAMA INDONESIA   \n",
       "4  30071073726                  ANSORI          BAROKAH FOTO COPY   \n",
       "\n",
       "                                        Alamat                Wilayah  \\\n",
       "0              TEMENGGUNG RT. 04 RW. 03 NO. 19      AMBARAWA SEMARANG   \n",
       "1                    JLN PROF DR SATRIO NO 164  JAKARTA - DKI JAKARTA   \n",
       "2                  JL TERUSAN KOPO KM 11 NO 76   BANDUNG - JAWA BARAT   \n",
       "3  JL DURMAN RUKO NO 24 G BLKNG SMA 4 GARDYATI                BANDUNG   \n",
       "4                 JLN TEUKU UMAR NO 20 RT 4/8      TANGERANG - BANTEN   \n",
       "\n",
       "     Isi Kiriman          SP  Biaya Kirim   Diskon    Total  \n",
       "0         DOMPET     SPANDUK      23000.0  Rp0.00   23000.0  \n",
       "1        DOKUMEN  PERIKLANAN      13000.0  Rp0.00   13000.0  \n",
       "2        DOKUMEN  PERIKLANAN      20000.0  Rp0.00   20000.0  \n",
       "3        DOKUMEN  PERIKLANAN      14000.0  Rp0.00   14000.0  \n",
       "4  BAWANG GORENG     SPANDUK      14000.0  Rp0.00   14000.0  "
      ]
     },
     "execution_count": 10,
     "metadata": {},
     "output_type": "execute_result"
    }
   ],
   "source": [
    "df.head()"
   ]
  },
  {
   "cell_type": "code",
   "execution_count": 11,
   "metadata": {},
   "outputs": [
    {
     "data": {
      "text/plain": [
       "array(['-', 'PT STANLEY BLACK & DECKER', 'PT SAMUDERA INDUSTRI',\n",
       "       'PT RAMA INDONESIA', 'BAROKAH FOTO COPY',\n",
       "       'PESANTREN MODERN DAARUL MUTTAQIEN', 'Pribadi', 'PT PUTRA SEJATI',\n",
       "       'PERGUDANGAN KAMAL INDAH BLOK DI', 'PT. ALTA NIKINDO ',\n",
       "       'JL. LINGKUNGAN III NO. 48 RT. 12/03',\n",
       "       'DAN + DAN VILLA REGENCY TANGERANG II BLOK DBOI / 54',\n",
       "       'KANTOR ASPARINDO GEDUNG BANK MEGA', 'KONTRAKAN IBU HJ. MURNI',\n",
       "       'PT. NOK INDONESIA', 'PT. KALBE FARMA TBK',\n",
       "       'KAWS. INDUSTRI MITRA KARAWANG ',\n",
       "       'PERUMAHAN GRIYA SURADITA INDAH (KOPRI)',\n",
       "       'PT TAMAN SAFARI INDONESIA', '=', 'RS MITRA KELUARGA BEKASI TIMUR',\n",
       "       'PT KENARI DJADJA PRIMA ', 'PESANTREN MODERN DAARUL MUTTAQIEN 1',\n",
       "       'PT SUMBER SINAR SEMESTA', \"PONPES IAMAM SAFI'I BREBES\",\n",
       "       'PT AKS PRECISION BALL INDONESIA',\n",
       "       'GG. CIPINANG KEBEMBEM II RT. 10 RW. 13 NO. 30A',\n",
       "       'PERTOKOAN NIAGA DEWA RUCI BLOK B NO 9', 'KOMPLEK GRIYA BANDUNG',\n",
       "       'TOKO VIA', 'PT. PRISKILA PRIMA MAKMUR (PUSAT)',\n",
       "       'JL. RAYA PASAR LEGOK GG. MASJID JAMI AL IZMA',\n",
       "       'DEPARTMENT FLAMMABLE PT P2 CUSSON INDONESIA',\n",
       "       'PT. AKS PRECISION BALL INDONESIA', 'TV ONE JAKARTA',\n",
       "       'KOMP MTC BLOK G16', 'PT. PERKASA INTERNUSA MANDIRI',\n",
       "       'PESANTREN MODERN DAARUL MUTTAQIN', 'PATOKAN KONTRAKAN SUKARI',\n",
       "       'JL. RAYA SERANG KM 12 KP. GEBANG ',\n",
       "       'JL. ASTEK LENGKONG GUDANG BARAT RT. 005/001',\n",
       "       'PT WICAKSANA OVERSAES INTERNATIONAL TBK',\n",
       "       'PESANTREN MODEREN DAARUL 1', 'CV. PINTU TIGA ANUGRAH',\n",
       "       'NATURA RESIDENCE A 10 CIMONE',\n",
       "       'ITC ROXY MAS TOKO SURYA CELL PRO LT 3 NO 124',\n",
       "       'PT PUSAN MANIS MULIA', 'PERUM DUTA BINTARO CLUSTER',\n",
       "       'PT SHIN-ETSU POLYMER INDONESIA',\n",
       "       'JL. LINTANG SUMATERA KM. 10 SUNGAI RUMBAI', 'GRIYA RAHMA',\n",
       "       'TRANSMART LTD', 'PT DUA KELINCI',\n",
       "       'KEL. PAPANGGO JL. PAPANGGO 1 GG. APEL TIMUR NO. 13 ',\n",
       "       'PT. MANDOM INA TBK', 'PERUM BOULEVAR HIJAU',\n",
       "       'PESANTREN MODERN DAARUL MUTTAQIN 1',\n",
       "       'LUK BHAKTI JAYA PERUM. GRIYA ASRI SERPONG',\n",
       "       'BANK J TRUSH LANTAI 36 (SAHID SUDIRMAN CENTER) ',\n",
       "       'PT EUROINDO JAYA', 'VILLA INDAH PERMAI ', 'PT FNB INDONESIA',\n",
       "       'BAGATELLE SHOP', 'WOVEN + B.V', '(RUMAH TINGKAT PAGAR HITAM)',\n",
       "       'KOMP GRIYA MULYA SEJAHTERA', 'TOKO OBAT DAN COSMETIC SERVICE ',\n",
       "       'KP. NAGRAK GG JOHAN', 'PONPES MODEREN NURUL FAJRI',\n",
       "       'PT WICAKSANA 01 ', 'PARKSON GOURMERT MART', 'PT INIZIO',\n",
       "       'JL PRAMUKA BUILDING 6 FLOOR', 'RSUD BALARAJA ',\n",
       "       'PT DIMA INDONESIA', 'CV BUDI DJAJA', 'PT STANLI TRIJAYA MANDIRI ',\n",
       "       'PT. SAMUDERA INDUSTRI', 'PT FUTAMED PHARMACEUTHICALS ',\n",
       "       'HOTEL OMPU HERTI', 'BANK J TRUSH LT 36',\n",
       "       'KONTRAKAN PAK HASAN NO. 10 (POJOK)', 'PT REKATAMA GLOBAL SINERGI',\n",
       "       'GANG H. SAKIN -', 'PERUM GRAND CIKARANG CITY',\n",
       "       'PERUM MARGAHAYU JAYA', 'PT. SORIN MAHASASA', 'CV. RATTAN JEPARA',\n",
       "       'PT DWI ERA JAYA ABADI', 'PT. NUTRICIA', 'PT. DUA KELINCI',\n",
       "       'DEKET MUSHOLLA RAUDLATUL JANNAH', 'SMKN 3 KOTA SERANG',\n",
       "       'PT PZ CUSSONS INDONESIA', 'PT. CITRA RIOTEK PRATAMA',\n",
       "       'PT. KAO INDONESIA',\n",
       "       'JL. KAPTEN HANIFAH DEPAN CUCI MOBIL DHIVA STEAM',\n",
       "       'LICENSOR ASSOCIATES', 'SAMPING MASJID AL-MUNAWAR',\n",
       "       'KOMPK. BNI 46 BLOK TT NO. 2', 'KP. KADU CURUG KAB. TANGERANG ',\n",
       "       'GRIYA RAHMA NO. 5 ', 'PT. PUSAN MANIS MULIA',\n",
       "       'KEMENTERIAN PERHUBUNGAN ', 'PERUMAHAN GRAMAPURI PERSADA',\n",
       "       'KHARISMA TEHNIK', 'PT MANDOM INA TBK', 'PT GUMINDO BOGAMANIS ',\n",
       "       'KOMPLEK PTPN 7', 'GUDANG BANDREK', 'PT. PUNDI KENCANA',\n",
       "       'VILLA INDAH PERMAI', 'JL. PERUM PORIS INDAH ',\n",
       "       'PT INDURO INTERNASIONAL ', 'PT ARAI RUBBER SEAL INDONESIA',\n",
       "       'TB ALAM MAKMUR ', 'PT. MAYA MUNCAR', 'PT MILKO BAVERAGE INDUSTRY',\n",
       "       'PEUM BULEVAR HIJAU', 'PT SUPERDRY MARINE', 'KONTER STAR CELL',\n",
       "       'GRAHA WANAARTHA', 'PT DARMA CAHAYA MULIA 9SPBE/LPG)',\n",
       "       'SDN 02 ROWOYOSO', 'LEPTRA RESIDENCE NO D2 ', 'SUN SALON',\n",
       "       'ARDENDI JAYA SENTOSA', 'PT JASCO LOGISTICS',\n",
       "       'PERUM GARDEN CITY BLOK 18 NO 9', 'PT KAO INDONESIA',\n",
       "       'PONDOK AYAM GORENG HJ HALIM', 'KOMP PENGAYOMAN SEKARSARI',\n",
       "       'PERUM GRAMAPURI PERSADA', 'CV MUGI BERKAH',\n",
       "       'KOMP BULOG POSPENGUMBEN', 'MAJLIS AHBABURROSUL',\n",
       "       'PT POKKA DIMA INTERNATIONAL', 'PERUM ALAM SUTRA ',\n",
       "       'PERUM BAT RD 2', 'SPG INDAH ARLOJI',\n",
       "       'PT. NICHOLAS LABORATORIES INDONESIA', 'ELECTRONIC CIRY',\n",
       "       'PT. DWI TUNGGAL SURJA JAYA', 'WARUNG MAMAH RARA',\n",
       "       'SEBELAH PANCINGAN SELARONG',\n",
       "       'PP AM MUNAWIR KOMPLEK NURUS SALAM PUTRI', 'CV PINTU TIGA ANUGRAH',\n",
       "       'PT. PRESTASI TRANSPORTAMA ABADI',\n",
       "       'PT PANASONIC MANUFACTURING INDONESIA', 'PT KOOPA SPECIALTIES',\n",
       "       'PT MULTIGUNA INTERNATIONAL PERSADA', 'PT TRIANGLE MOTORINDO ',\n",
       "       'PT CITRA KARSA PERSADA', 'PERUM PONDOK JAGUNG EKA BAKTI',\n",
       "       'BANK COMMON WEALTH', 'TOKO BINA RAGAM',\n",
       "       'JL. PEJANTEN RAYA RT. 06 RW. 05', 'DUSUN CIJATI HILIR',\n",
       "       'PERUMAHAN BPKRI PERWAKILAN PROV. KALTIM',\n",
       "       'PT. BANK COMMONWEALTH CAB. SAMARINDA', 'BLOK NEGLA RT. 16/04',\n",
       "       'CMA CGC GROUP', 'PT AMAN INDAH MAKMUR', 'PT RBS FOOD',\n",
       "       'PT TUNASAGRO INDOLESTARI', 'RKM AHMAD YANI',\n",
       "       'KONTRAKAN MAMA LILIS', 'SDI AL AZHAR 1 (KEBAYORAN BARU (LT 2) )',\n",
       "       'KOLAM PEMANCINGAN IKAN',\n",
       "       'BANK JTRUST GEDUNG SAHID SUDIRMAN CENTER', 'KONTRAKAN PAK AAM',\n",
       "       'PT POHON MENTENG ASRI', 'PERUM GRIYA MELATI',\n",
       "       'GRAHA MUTIARA PERMAI 2 (GMP 2)', 'PERUM PONDIK UNGU PERMAI ',\n",
       "       'PT DAYA ANUGRAH MANDIRI CIASEM', 'PERUM PONDOK MAHARTA',\n",
       "       'JLN DEPOK INDAH II GG NYIUR', 'PT ETOS INDONUSA (PUSAT)',\n",
       "       'DIVISI PELAYANAN HUKUM', 'SD NEGERI 2 KRAMAT',\n",
       "       'JL. SUNTER AGUNG RAYA', 'TOKO GROSIRAN THAMRIN CITY',\n",
       "       'PERUMAHAN PESONA PESANTREN DAARUL SHAFA',\n",
       "       'PT ENSEVAL MEDIKA PRIMA PUSAT', 'BATIK KOMAR',\n",
       "       'BALUBUR TOWN SQUARE (BALTOS)', 'PUSKESMAS MALEBER',\n",
       "       'PT HI LEX INDONESIA', 'PT EMBEE PLUMBON TEKSTIL',\n",
       "       'PT SIGMA & HEART INDONESIA', 'PT OLYMPINDO MULTI FINANCE ',\n",
       "       'PT. WASKITA KARYA (PERSERO)', 'PT. SAMUDRA NITYATAMA MULYA',\n",
       "       'PT UNIVERSAL CIPTA PANGAN', 'REL KERETA API ARAH GEGESIK',\n",
       "       'TOKO MILLA', 'PT DALIM FIDETA KORNESIA ', 'GEDUNG MPP LANTAI 4',\n",
       "       'PT JCL INDONESIA', 'KOMPLEK PERUMAHAN DUTA GARDEN BLOK G3 NO 23',\n",
       "       'PT SERIM INDINESIA ', 'PT. SUNGIUNDO JAYA MAKMUR',\n",
       "       'PERUM BULEVAR HIJAU', 'PT XPRESINDO LOGISTIK UTAMA',\n",
       "       'PT ARINA MULTI KARYA', 'BANK INDONESIA',\n",
       "       'DEKAT SPBU WAJOK, DISAMPING RM NISA',\n",
       "       'BIRO JASA LANCAR JAYA MANDIRI',\n",
       "       'PT SUMBER SINAR SEMESTA (ERA SINAR)',\n",
       "       'PERUM GROGOL GREEN GARDEN 36 BLOK L 7',\n",
       "       'DEPAN RSI KAJEN MARGOYOSO PATI', 'YAYASAN BANI IHKSAN',\n",
       "       'RUMAH DINAS TNI AL', 'KOMP WALIKOTA KELAPA GADING',\n",
       "       'PERUM TAMAN KRISAN BLOK C1 NO 16', 'PERGUDANGAN KAMAL INDAH',\n",
       "       'PT WIKA GEDUNG/PROYEK TRANS PARK', 'UD SUMBER TERANG',\n",
       "       'PT FAJAR PAPER', 'PD BPR KUNINGAN', 'PT JAYA WAHANA TERPADU',\n",
       "       'KOMPLEK CURUG INDAH', 'PT EUROCHAIR INTERNUSA',\n",
       "       'PT WIRASINDO SANTAKARYA', 'GRIYA CITRA ASRI',\n",
       "       'KOMP RIUNG BANDUNG', 'TOKO MUJUR ROTAN',\n",
       "       'APARTEMEN SHANGRI / A RESIDENCE 17C',\n",
       "       'JL. KRESEK RAYA NO. 1 RT. 001 RW. 002', 'UD. AKIRUDIN',\n",
       "       'JL. INSPEKSI CAKUNG - DRAIN NO. 146',\n",
       "       'PT BNI LIFE GEDUNG CENTENNIAL TOWER 9TH FLOOR',\n",
       "       'PERUMAHAN WISMA TENGGER GANG 14 NO. 3',\n",
       "       'PERUMAHAN BUMI INDAH TAHAP 1', 'BJ BERKAH JATI',\n",
       "       'RUKAN EKSLUSIVE BLOK E NO 18 ',\n",
       "       'PESANTREN MODERN ADRUL MUTTAQIN 1',\n",
       "       'KAWASAN PEGUDANGAN KARAWACI ', 'PERCETAKAN MANADO',\n",
       "       'KOMP TAMAN KOPO INDAH 2', 'PT ANUGRAH INDAH MAKMUR',\n",
       "       'PT MILKO BEVERGE INDUSTRY', 'CV. BUDI DJAJA', 'JL. MAZDA 4',\n",
       "       'PT MURINDA IRON STEEL', 'JL. KOM YOS SUDARSO',\n",
       "       'PT. OLAGAFOOD INDUSTRI ', 'PONPES MIFTAHUL ULUM ',\n",
       "       'CHANDRA,CITRA,RAYA,6TAMAN PUSPITA', ' KONTRAKAN PA; SAMANI',\n",
       "       \"PONPES DAAR SA'ADAH\", 'PT TIGA BERLIAN ELECTRIC',\n",
       "       'SELATAN SDN 3 JATIREJO', 'DUSUN SUKOREJO RT. 13 RW. 3',\n",
       "       'PT. HOMEWARE INTERNATIONAL INDONESIA', 'PT NIRWANA LESTARI',\n",
       "       'PT. SUPER DRY MARINE - JAKARTA OFFICE', 'SDN 2 KERAMAT',\n",
       "       'KP. PABUARAN NO. 47', 'JL. SUNTER BENTENGAN',\n",
       "       'JL. BRATAYUDA GG. HJ. ANIH', 'PT. KIMBERLY CLARK INDONESIA',\n",
       "       'PONDOK PESANTREN AL- BAHJA TULUNG AGUNG',\n",
       "       'PERUM PERMATA ICON BLOK A9 NO 17',\n",
       "       \"KAMPUNG QUR'AN KETAPANG CIPONDOH\", 'BANK BRI PAKUPATAN',\n",
       "       'PT EMIESB INDO SAMUDRA ', 'GRIYA SURNYALAGI PERMAI',\n",
       "       'JL. RAYA CIKULAK / JL. KH ZAENAL ARIFIN',\n",
       "       'SAMPING STADION BOLA PERIGI LAMA', 'DEALER HONDA NUSANTARA SAKTI',\n",
       "       'KPPN PALANGKARAYA', 'PT YASA MITRA PERDANA',\n",
       "       '(DEPAN BAKSO SOLO VS MIE SETAN)',\n",
       "       'PRUPUK SELATAN KESAMBI TAMAN SARI WAPOL', 'PT. EMWAY GLOBALINDO',\n",
       "       'BELAKANG PASAR SEDERHANA', 'JL. MUSTANG IV NO. 1 RT/RW 2/29',\n",
       "       'PT. GUMINDO BOGAMANIS', 'PETFOOD MATAHARI SAKTI',\n",
       "       'PT. SINAR SRI REJEKI UTOMO', 'TOKO SANGGAR MEUBEL', 'TOKO HAMNAS',\n",
       "       'PENGUIN', 'TEGALGUBUGLOR BLOK 4',\n",
       "       'JL. AFFANDI GANG ENDRA NO 23 KOSKOSAN RUMAH KETUA',\n",
       "       'LAGUNA RESIDENCE LR 1007', 'SDN SASAK', 'PT KAPUAS MEKAR JAYA ',\n",
       "       'PT. BNI LIFE', 'PT. WIRASINDO SANTAKARYA (WISANKA)',\n",
       "       'NOTARIS - PPAT', 'RUSUNAWA MARUNDA ',\n",
       "       'KL. TANJUNG BARAT SELATAN 99.100.W0.22A ',\n",
       "       'JL. TEMBUSAN PATEBON NO. 09', 'BANK BRI PAKUPATAN ',\n",
       "       'PT CITRA SURYA PACIFIC', 'JL. RAYA MAUK KM 13 PERUM PURI',\n",
       "       'KOSAN BPK EULEUK DEKAT MASJID ZAIDATHUL KHOIR',\n",
       "       'SMK MASKUMBAMBANG 1 DUKUN', ' KOMPLEK RUKO GRAND FLOWER ',\n",
       "       'JL. GADING RAYA 1 NO. 38 RT. 1 RW. 14 ',\n",
       "       'PT CIAWENINDO MITRA PERKASA', 'PT.MURINDA IRON STEEL',\n",
       "       'JL. DEWI SARTIKA LINK PAING', 'PERUMNAS 2 JLN.DELIMA 4 NO19',\n",
       "       'KOMP KURDI REGENCY', 'PASAR BENDUNGAN HILIR LT 2', 'DS. PAWIDEAN',\n",
       "       'JL H. JUNAIDI KOMPLEK PERTAMINA NO 12', 'BAGIAN KEUANGAN',\n",
       "       'CIBUBUR POINT BLOK A NO. I', 'BPK. DEDE JEMI / IBU YUNIASTI',\n",
       "       'PT. BECKJORINDO PARYAWEKSANA', 'APT GREEN PARK VIEW TOWER E1153',\n",
       "       'DEKRANASDA PROVINSI JAWA BARAT', 'JL. PROF DR. HAMKA',\n",
       "       'DUKUH KARANG JATI ', ' KANTOR CABANG KORPORASI MENARA BCA',\n",
       "       'JL. KALIURANG KM. 14.5 RT. 01 RW. 05 ',\n",
       "       'PERUMAHAN PONDOK HASANUDIN', 'SAMPING SMPN 105 RT 7 RW 01',\n",
       "       'SMA PLUS AL BASHARIAH', 'KANTOR TRADE UNION RIGHTS CENTRE',\n",
       "       'KAMPUNG CIBITUNG RAYA CITRA', 'TOKO ROTAN WIDJAJA',\n",
       "       'PM UNZAVITALIS', 'KETAPANG BUSINESS CENTRE',\n",
       "       'CONFY OUTDOORFURNITURE', 'PGSD/ SEMESTER II UPI PURWAKARTA',\n",
       "       'STAF LOGISTIK KODAM III SILIWANGI',\n",
       "       'JL. KOMPLEK PORIS TVRI BLOK D9',\n",
       "       'TOKO SUSU FAMILY DEPAN BALAI DESA',\n",
       "       'YANG JUALAN PULSA HP DAN RENTAL PS', 'WIRAGUNA DALAM RT. 06 ',\n",
       "       'GIANT TRANSPORTER INDONESIA', 'CLUSTER BUKIT WIDELIA',\n",
       "       'KOMLEK MASJID ATTAQWA', 'PT INTI GARMINDO PERSADA',\n",
       "       'PT AXALTA POWDER COATING SYSTEM INDONESIA', 'PT. SALUYU VESPARIO',\n",
       "       'INTILAND TOWER LT. 10 SUITE 1C', 'PPTQ ASALAM RIYADUL JANAH',\n",
       "       'PT NUTRICIA INDONESIA SEJAHTERA', 'PT TMG CIPTA',\n",
       "       'TAMAN HIJAU 12 A', 'PT SIBALEC',\n",
       "       'PONPES PUTRI NAHDLATUL BANAT LILULUM', 'PT PERKASA INTERNUSA ',\n",
       "       'PUSKESMAS BANJARHARJO', 'MEDITERANIA RESIDENCES ',\n",
       "       'PT. ANUGERAH CENDRAWASIH SAKTI MOTOR', 'PT. TRIANGLE MOTORINDO',\n",
       "       'PT GUNA LAYAN KUASA', 'PT BANK MANDIRI',\n",
       "       'PT. MITRA PERIANGAN PERSADA', 'PT NUMBER ONE PERSO',\n",
       "       'PONPES AL ANWAR AZZAHIDI BUNTET ', 'PAUD PELANGI CERIA ',\n",
       "       'PT KIRANA PURNAMA', 'PT. YUTAKA MANUFACTURING INDONESIA',\n",
       "       'PT DASATRIA UTAMA', 'POONPESHAMALATUL QURAN',\n",
       "       'DEPAN MUSHOLLA AL MAKMUR', 'PERUM PAKUAN REGENCY CLUSTER',\n",
       "       'PERUMAHAN WAHANA PONDOK GEDE BLOK UI NO 3',\n",
       "       'WARUNG SATE HJ SUNARI', 'PT. KWARSA HEXAGON', 'PT TTL RESIDENCE',\n",
       "       'RT. 16/16', 'PT PACIFIC FURNITURE', 'PERUM GRAND KAHURIPAN',\n",
       "       'CV SUMBER ALAM', 'PT BUREAU VARITAS CPS INDONESIA OFFICE',\n",
       "       'KANTOR KIBAR INDONESIA', 'PT DINASTI INSAN MANDIRI', 'FAJARINDO',\n",
       "       'PT SPINMILL INDAH INDUDTRI', 'SAMPING RS MURNI ASIH',\n",
       "       'KONTRAKAN BPK HASIM WARNA IJO NO 5', 'TOKO DIN JAYA',\n",
       "       'PT REKATAMA GLOBAL SINERGI ',\n",
       "       'PT. GUMINDO BOGAMANIS KARAWACI OFFICE PARK', 'KONTER PULSA BABEH',\n",
       "       'PAUD PELANGI CERIA', 'PT HOTELINDO PERMATA JIMBARAN',\n",
       "       'PT. SATRIAKARYA ADIYUDHA', 'KOS PUTRI BP. RURI',\n",
       "       'MARKAS KEPOLISIAN DAERAH JAWA BARAT', 'KOMP RANGKAI PERMATA 2 ',\n",
       "       'KOMPLEK PORIS TVRI BLOK D9 ',\n",
       "       'KANTOR DINAS SOSIAL BEKAS KANTOR BPBD', 'KOMPLEK CITRA GADING',\n",
       "       'PT. BINTANG REJO LESTARI', 'PERUMAHAN BUMI CIPTA',\n",
       "       'FIRST TRAVEL GKM GREEN TOWER LANTAI 16',\n",
       "       'KAMPUNG COBLONG DESA SUKAMENAK', 'DEPAN PENGADILAN AGAMA',\n",
       "       'PAGARASIH PLAZA NO A7 ', 'PT. GOLDEN LEAVES',\n",
       "       'KOMPLEK PERUMAHAN PERMATA PUR LAGUKA BLOK A5 NO 6',\n",
       "       'GALON AMANAH WATER', 'PT SATRIAKARYA ADIYUDHA',\n",
       "       'PT JOIL MIJAYA INDAH', 'PT CENTRAL MITRA ABADI',\n",
       "       'PT BHUMI CAHAYA MULIA', 'BATK CIREBON WARTINI YUNUS',\n",
       "       'CV GOLDEN JAYA MAKMUR', 'PERUM PEMDA BEKASI BLOK B',\n",
       "       'PERUM PESONA LEBAK 6 WANGI 2', 'PT XPRESINDO LOGISTIK UTAMA ',\n",
       "       'PT ETOS INDONUSA (BRANCH BOGOR)',\n",
       "       'PT PRESTASI TRANSPORTAMA ABADI', 'PERUMAHAN BUMI SANI PERMAI',\n",
       "       'PT MITRA SATYA ANUGRAH ', 'PT STEP ',\n",
       "       'PT SINAR MULIA PLASINDO LESTARI', 'SHOE ROOM PT DWITAMA ',\n",
       "       'KOMP ASRAMA POLRI POLSEK', 'PT BANK CTBC ',\n",
       "       'PERUM GRIYA BETUNGAN ASRI', ' ', 'PERUMAHAN GRAHA RAFLESIA',\n",
       "       'PT. SARI TAKEGI ELOK PRODUK (STEP)',\n",
       "       'KOMPLEK GRIYA PERMATA INDAH GPI', 'PT DJAVA FORTUNA KREASINDO',\n",
       "       'KHARISMA JAYA TEKNIK', 'PT PALM SEMESTA ENGINEERING ',\n",
       "       'ASRAMA POLRI KALIDERES', 'AL FUAD PORIS JAYA',\n",
       "       'PT TRICONVILLE INDONESIA ', 'TIKI PATROL',\n",
       "       'JLN RAYA BOGOR 36 GANG KUD ', 'EXOTICA GARDEN',\n",
       "       'KAV PTB DKI PONDOK KELAPA JAKTIM', 'PONDOK CITUIS INDAH',\n",
       "       'PT. NUTRICIA INDONESIA ', 'PT ALL JEFF INTERIOR',\n",
       "       'KOS-KOSAN BELAKANG HOTEL NYLAND',\n",
       "       'DEVISI PEMBANGUNAN PT PATRA JASA', 'PERUMAHAN DUTA MEKAR',\n",
       "       'NOTARIS/PPAT', 'GRAHA KALIANDA', 'PT. PUSAKA PRIMA',\n",
       "       'PENGDAM III / SLW', 'TOKO KEMBAR JAYA',\n",
       "       'BAGIAN QIP PT. CHINGLUH INDONESIA',\n",
       "       'PT RAMA INDONESIA HEAD OFFICE', 'PERUM BHUMI BARU INDAH PERSADA ',\n",
       "       'TRI JAYA LESTARI', 'PONPES AL IHSAN',\n",
       "       'PESANTREN DARUL MUTTAQIEN 2', 'RAMAYANA LÉSTARI SENTOSA',\n",
       "       'KAWASAN IDUSTRI CANDI BLOK H NO 2', 'PT COSMO TEKNOLOGI ',\n",
       "       'KLINIK AIDA HOUSE', 'PT. WAHANA MAKMUR SEJATI MAIND DEALER',\n",
       "       'JL. CEGER RAYA DESA BLOK KELAPA GG RISAN',\n",
       "       'BJI KAMPUNG CEREWE BEKASI TIMUR', 'PT. MAYORA INDAH ',\n",
       "       'PT GRAHA SUMBER PRIMA ELEKTRONIK', 'PT SALUYU VESPARIO',\n",
       "       'M MIFTAHUSSHIBYAN', 'KP. COGREG GG BELANDA  NO. 77',\n",
       "       'SULIKI JAYA', 'KOMP RUKAN TAMAN MERUYA ',\n",
       "       'PT DWI NAGA SAKTI ABADI', 'PT ASMO INDONESIA', 'LEBAK BULUS 2',\n",
       "       'PERUMAHAN SINGGASANA PRADANA', 'KIRANA CIKARANG BLOK B1',\n",
       "       'PT NICHIRIN INDONESIA',\n",
       "       'PT MENARA CIPTA METALINDO KAWASAN MM 2100 ',\n",
       "       'PT CIREBON FURNITURE', 'PT WADAH MAKMUR KENCANA',\n",
       "       'BHINEKA PADANG RESTORANT', 'VILA INDAH PERMAI',\n",
       "       'PERUM LIMUR PRATAMA REGENCY', 'PT KASAI TECK SEE INDONESIA',\n",
       "       'PT PASAI JAYA', 'PONPES AL HIKMAH I ',\n",
       "       'PT BANK BPR INTIDANA SUKSES MAKMUR', 'TROPICAL GARDEN 5 NO 11',\n",
       "       'TOKO SERASI', 'PERPUSTAKAAN BADAN BAHASA KEMDIKBUD',\n",
       "       'GREEN VILAGE ', 'PESANTREN DARUL MUTTAQIEN I',\n",
       "       'DEPAN SEKOLAH MI MATHLAUL HUDA',\n",
       "       'PESANTREN MODERN DARUL MUQIMIEN',\n",
       "       'PESANTREN MODERN DAARUL MUTTAQIN 2',\n",
       "       'KANTOR KEMENAG KOMPLEK PEMDA', 'KOS AMADEA',\n",
       "       'PT DANTOSA PRECON PERKASA', 'PT TIRTA MAKMUR PERKASA',\n",
       "       'PERUM PURI CIKARANG HIJAU', 'PERUM WAHANA CIKARANG BLOK G2 NO 27',\n",
       "       'PUTRA MAKMUR SEJAHTERA', 'PT ETOS INDONESIA',\n",
       "       'CEK FISIK SAMSAT TEGAL KOTA', 'TDC KISEL ', 'PT ETOS INDONUSA',\n",
       "       'TOKO BAROKAH ', 'PT, KAO INDONESIA',\n",
       "       'KONTRAKAN BU HJ. NAFIS NO.4', 'AL ASYARIYAH',\n",
       "       'PT MIDEA PLANET INDONESIA', 'TANJUNG SEJAHTERA',\n",
       "       'TOKO CITRA BATIK', 'RUKAN SENTRA NIAGA BLOK H1',\n",
       "       'BADAN PENGELOLA APARTEMEN TAMAN RASUNA',\n",
       "       'PT INTERNAL TEXTIL GROUP ', 'TOKO ROKCKIN', 'BENGKEL CAT MOBIL',\n",
       "       'CV HARAPAN MANDIRI', 'PT WICAKSANA 0.1',\n",
       "       'PT. NOZOMI OTOMOTIF INDONESIA', 'PT. REKATAMA GLOBAL SINERGI',\n",
       "       'RSUD TUGU KOJA', 'PT TRUE', 'PERUMAHAN PANORAMA SERPONG',\n",
       "       'APOTIK ANANDA FARMA', 'KOMPLEK POLRI RAGUNAN AMPERA RAYA',\n",
       "       'TOKO NABIL GROSIR', 'DEKAT MUSHOLLA ALI HIDAYAH',\n",
       "       'PT CIPTA NISSIN INDUSTRIES', 'KANTOR KADIM  PROV BANTEN',\n",
       "       'RUKAN EXCLUSIVE BUKIT GOLF MEDITERANIA',\n",
       "       'TROPIKAL GARDEN 5 NI 11 GRAND GALAXI CITI', 'BAGIAN CAFE',\n",
       "       'RS. HERMINA BITUNG ', 'PT MANE INDONESIA', 'PT BOTON INDONESIA',\n",
       "       'KOM PERKANTORAN DUTA MERLIN', 'PT SUN DIVISION',\n",
       "       'PT FPS INDONESIA', 'ASRAMA POLRI KALIDERES ',\n",
       "       'MARINA WATER FRONT CITY ', 'PT ETOS INDONESIA ',\n",
       "       'KOMP RUKAN ARTHA GADING NIAGA BLOK E NO 17', 'PT. DIMA INDONESIA',\n",
       "       'PT. LAUTAN ARTA DUNIA', \"OLLY'S CAFE DAN CAKE \",\n",
       "       'SMKN 1 LEMAH ABANG', 'RUMAH BPK AZIZ GURU',\n",
       "       'APARTEMEN PURI INDAH GARDEN UNIT 208', 'PT. SARANA PERMATA CONT',\n",
       "       'KFTD PANGKAL PINANG', 'KTB SPARE PART CENTER', 'CV ATLANTEAK',\n",
       "       'CV LAWAS & ANTIQUE', 'PT ARMINAREKA PERDANA',\n",
       "       'WISMA BATAVIA IBU WENI KOMPLEK KAMPUS STAN', 'PONDOK SANITA 33',\n",
       "       'PT BERKAT ANGUNG JAYA ABADI', 'PT. MAJU JAYA ENERGI ',\n",
       "       'KOMPLEK CIBIRU ASRI I BLOK C7 ', 'MAJELIS AHBABURROSUL INDONESIA',\n",
       "       'TOKO HIDUP MAJU MAKMUR LTC GF1 A2 NO. 23 ',\n",
       "       'PT NOZOMI OTOMOTIF INDONESIA', 'PT SANWEEI',\n",
       "       'KP. KAUM GANG MART. 07 RW. 03', 'PT STANLI TRIJAYA MANDIRI',\n",
       "       'KOMP MANDALA MEKAR SAKINAH', 'MUTIARA TAMAN PALEM ',\n",
       "       'DEKAT MUSHOLLA AL MUTTAQIEN', 'YORIS', 'PT KMK GLOBAL SPORT K1',\n",
       "       'PT TRICONVILLE INDONESIA', 'PT GLOBAL DAYA MANUNGGAL',\n",
       "       'PT TAS CENTRE CEMERLANG', \"METRO PERMATA 2,D5'II\",\n",
       "       'KOS PUTRI DAMAI', \"SAMPING MASJID JAMI'ALMU'WANAH\",\n",
       "       'KANTOR CAS GROUP MENARA CARDIG LT 3', 'KOMP A1 BAYAN',\n",
       "       'PT SUN STRAND ', 'RUKO UNION BLOK A NO 11',\n",
       "       'PT GUMINDO BOGA MANIS', 'PT COLORLINK JAKARTA',\n",
       "       'PERUM GRENVIL BLOK AH NO 17', 'TROPICAL GARDEN 5 NO 11 ',\n",
       "       \"SANTRI TAHFIDZ QUR'AN MAHASISWA\", 'PT. OLAGAFOOD INDUSTRI',\n",
       "       'ALTIRA BUSINESS PARK', 'SINJA RATAN', 'RUKO BOULEVARD M,5 NO 29 ',\n",
       "       'EJIP INDUSTRIAL PARK PLOT NO 5C ',\n",
       "       'AMP-MEDIA IMPACT SOVEREIGN PLAZA, SUITE 5D 5TH FLOOR',\n",
       "       'PERUMAHAN TAMAN BUAH SUKAMANTRI',\n",
       "       'KANTOR CURUG LT2 SMPG PABRIK MITSUBISHI LOGSTIK',\n",
       "       'MAJELIS AHBABURROSUL KARAWANG', 'KANTOR LEMHANNAS RI',\n",
       "       'HARAPAN BARU 1', 'SWOROOM NISSAN KEBON JERUK',\n",
       "       'PT JILBERT KREASINDO KURNIA', 'PT ANUGRAH BUSANA INDAH',\n",
       "       'ASRAMA PADJAJARAN 2 KOMP UNPAD ', 'PONDPESANTREN MIFTAHUL ULUM',\n",
       "       'KOMPLEK BUMI INDAH ', 'ETOS BDG', 'SAMPING LAPANGAN FUTSAL',\n",
       "       'PT SUNGILINDO JAYA MAKMUR', 'D-HOUSE KOST',\n",
       "       'KANTOR NOTARIS EVIN APRILYANI',\n",
       "       'PERUMAHAN PALEM SEMI JALAN PALEM HIJAU V NO.7',\n",
       "       'PERUM BUMI WARINGIN INDAH NO 1 (BWI 1)', 'KONTRAKAN DINDA NO 9 ',\n",
       "       'PONPES MIFTAHUL ULUM', 'WISMA GBI ', 'PT VIXON INDONESIA',\n",
       "       'KASIM WARUNG', 'PERUM BAITUL JANNAH', 'BENGKEL AWAL JAYA',\n",
       "       'PT MURI AGUNG ABADI', 'PASAR PULO JANE GANG CAIRO PUTSAL',\n",
       "       'HONDA ARISTA RAJABASA', 'KOMP RESIDENCE KAV 90', 'BEAUTYAN MATES',\n",
       "       'PONPES KHOERO UMMAH', 'RAJAWALI TEXTILE',\n",
       "       'PT. CITRA RIOTEK PRATAMA ',\n",
       "       'EXPEDITORS INDONESIA GRAHA INDOCHEM 5 FLOOR',\n",
       "       'TROPICAL GARDEN 5 NO. 11', 'PT JATI MAS INDONESIA',\n",
       "       'GG MASJID AL IJMA ', 'PT. SORIN MAHARASA',\n",
       "       'SAMPING M,ASJID AL MUNAWAR', 'PERUMNAS BUMI TELUK JAMBE',\n",
       "       'JL. DUYUNG GG. PERMATA DUYUNG', 'PT. BEKAERT INDONESIA ',\n",
       "       'PT NURCAHYA INTAN', 'PERUM PURI MUTIARA INDAH',\n",
       "       'PT. IDS MEDICAL SYSTEM INDONESIA', 'IKON FUTNITURE', 'GG MUSHOLA',\n",
       "       'PT.FUKOKU TOKAI RUBBER INDONESIA',\n",
       "       'JLN DUMAR INDUSTRI BOK H NO 10 ', 'OTTO KREDIT MOTOR CIKAMPEK',\n",
       "       'PERUM BJI', 'PT GLOBAL ANDALAN PRIMA',\n",
       "       'PT. PRESTASI TRANSPORTAMA ABADI ', 'PT  KENCANA GEMILANG',\n",
       "       \"JL. H. MU'AN RT. 3/7 NO. 14 \", 'TQ. DIRJEN DUKCAPIL',\n",
       "       'KLINIK NURHIKMAH KUWARON',\n",
       "       'SETDIJEN INDUSTRI AGRO LT. 18 GEDUNG KEMENTERIAN PER',\n",
       "       'PT. MURINDO IRON STEEL', 'GRIYA SERDANG INDAH',\n",
       "       'PERUMAHAN GRIYA KARAWACI', 'YPI ROUDLOTUL JANNAH ',\n",
       "       'PT GUNA LAYAN KUASA WISMA GBI ',\n",
       "       'THE GREENHIL RESIDENCE AIII / 23', 'KANTOR KEMENPORA',\n",
       "       'PESANTREN DAARUL MUTTAQIN 1 ', 'PONDOK PESANTREN MISYKATUL ATSAR',\n",
       "       'MUTAWASITHAH 2C', 'PT. MD ENTERTAIMENT', 'CV BIIENSI FESYENINDO',\n",
       "       'TKIT AL MADINAH', 'BLOK KROENG ',\n",
       "       'PT. SATRIAKARYA ADIYUDHA SOHO PANCORAN',\n",
       "       'KOMPLEK PERKANTORAN DUTA MERLIN ',\n",
       "       'JL. KEDUNG BARU PEDONGKELAN NO. 47', 'PT. KMK GLOBAL SPORT KI',\n",
       "       'KOMPLEK ASRAMA POLRI - ', 'PONPES ASMA HUSNA ',\n",
       "       'DEPAN MUSHOLLA AL BARKAH', 'KOMPLEK 9 DEKAT MASJID ',\n",
       "       'PT INDOMARCO PRISTAMA', 'KONTARAKAN DINDA NO 9 ',\n",
       "       'SMP WIRATAMA KOTA GAJAH', 'KONTRAKAN PAK WAWAN',\n",
       "       'PT CARLINDO SEJAHTERA ABADI', 'IBIS BUDGET HOTEL LT 5',\n",
       "       'RUKAN VILLA GRAHA HIJAU 1 B26 ', 'PT TRANSFORTAMA ABADAI',\n",
       "       'APARTEMEN FOUNTAIN PARK GRIYA PANCORAN', 'PRIMA HARAPAN REGENCY',\n",
       "       'KAWASAN INDUSTRI TEPADADU INDONESIA',\n",
       "       'MENARA STANDAR CHARTERED LEVEL 3', 'PERUMAHAN PEJAGOAN INDAH ',\n",
       "       'PONPES HAJARASWAD (SUNAN PANDANARAN)',\n",
       "       'SOURCING INDONESIA PERUM GROGOL INDAH', 'PT JIEP',\n",
       "       'DEPAN TAMAN HOINDA SAMPING ORGANIC CLUB / BURGREENS',\n",
       "       'LINK PERUM TAM,AN CIHARENDONG', 'PT PHARMASOLINDO',\n",
       "       'PT IDS MEDICAL SYSTEM INDONESIA',\n",
       "       'KANTOR PEMASARAN TANJAKAN INDAH', 'PERSADA BANTEN',\n",
       "       'KOMPLEK PERTOKOAN BARKAH MAKMUR BLOK C NO 6',\n",
       "       'BALUBUR TOWN SQUARE',\n",
       "       'GERBANG ABU-ABU / SAMPING KOMPLEK MUTIARA KEDAYA',\n",
       "       'PERUM BUMI SASIH', 'PT SENTOSA KARYA ADITAMA',\n",
       "       'JL KARYAWAN IV PERUM PALEM GANDA ASRI 3 ',\n",
       "       \"SAMPING MUSHOLA JAMI'ATUSHOLIHIN\", 'SAMPING PDAM INDRAMAYU',\n",
       "       'BANK BRI KC WARUNG BUNCIT', 'STARFOD JAYA PRIMA',\n",
       "       'PT PUTRA ASIA PERDANA INDAH',\n",
       "       'JLN GUNUNG BENTANG PERUM BINA KARYA BLOK C 20',\n",
       "       'DEPAN HOTEL GRAND DIARA WARNET CINET', 'SHOWROOM ZIMMER RATTAN',\n",
       "       '(LINDETEVES TRADE CENTER)', 'PURI SURYAJAYA TAMAN NAGOYA G.7',\n",
       "       'TANAH KUSIR JAKARTA ', 'JL. PATIMURA ',\n",
       "       'JL. JENDRAL AHMAD YANI NO.61-A',\n",
       "       'PT SATRIA KARYA ADIYUDHA CAB SOLO', 'BENGKEL NINER LOT 9',\n",
       "       'PT. KIA /ASI (AMERICAN STANDART INDONESIA)', 'UD MUJUR ROTTAN',\n",
       "       'PT OLAGAFOOD INDUSTRI', 'PERUM BOULEVARD HIJAU',\n",
       "       'KAMPUS STFI SADRRA JAKARTA', 'PERUM. TAMAN BUAH KUTABUMI I ',\n",
       "       'PT. PROVICE ', 'UD CIPTA KARYA', 'YPI AL HIKMAH',\n",
       "       'PT BERDIKARI MAJI MANDIRI', 'PT HOMEWARE INTERNATIONAL INDONESIA',\n",
       "       'PT BANK NEGARA INDONESIA (PERSERO) TBK',\n",
       "       'KOMPLEK MASJID AGUNG WALISONGO', 'KOMP PERMATA BIRU',\n",
       "       'PERUM GRAHA PERSADA BLOK D NO 5', 'JL. KIYAI MAJA PASAR TAMAN ',\n",
       "       'PONPES LEMKA', 'PT GSI', 'RASUNA APARTEMENT TOWER 1703 G',\n",
       "       'SPV LOGISTIK INFORMA LIVING PLAZA', 'KANTOR RSKIA BANDUNG',\n",
       "       'PERUM BUANA GARDENIA RT 08/04 ', 'SMP - SMA YASPITA ',\n",
       "       'PT PUTRA SEJATI INDOMAKMUR PSI TOWER', 'MTS DARUSSALAM',\n",
       "       'JL. NYI GEDE CANGKRING', 'PT NUSANTARA SATRIA AGUNG 911',\n",
       "       'DEPOT ISI ULANG EMARALD WATTER', \"DEPAN TOKO QONA'AH 3\",\n",
       "       'RUKO THEMATIK BLOK R NO 3 PASAR MODERN',\n",
       "       'DEKAT LAP BOLA / KANDANG SAPI RT 5/2',\n",
       "       'PT MILKO BEVERAGE INDUSTRY', 'JL RAYA UNIVERSITAS PANCASILA',\n",
       "       'NOVEL NICE', 'SMK WIKRAMA 1 GARUT', 'PONDOK PESANTREN AL ALAWI',\n",
       "       'PT PANCA CIPTA BERSAMA', 'JL TEGAL BERIMAN KOMP MUTIARA HIJAU',\n",
       "       'PT BNI LIFE (GEDUNG CENTENNIAL TOWER 9TH FLOOR)',\n",
       "       'PUSKESMAS SINDANG LAUT', 'KOS MUSLIM PERUM SEKAR',\n",
       "       'PT COSMOS INDO INK', 'PT. DWI ERA JAYA ABADI',\n",
       "       'KANTOR SEKRETARIAT ASEAN', 'GANDARIA 8 ', 'JL. LASWI CIHEULANG',\n",
       "       'BERKAT BARU MOTOR', 'GREENVILLE MAISONETTE ',\n",
       "       'H. JUNAIDI KOMPLEK PERTAMINA NO 12',\n",
       "       'PONDOK PESANTREN MAHASISWA FIRDAUS',\n",
       "       'APARTEMEN PURI GARDEN UNIT 208',\n",
       "       'CITRA GARDEN 2 EXT BLOK BG 2D NO 1',\n",
       "       '130695 POOL BLUE BIRD PONDOK KOPI', 'PONDOK SUKA TANI PERMAI',\n",
       "       'JALAN RAYA UJUNG HARAPAN ', 'PT BANK MAYBANK INDONESIA, TBK',\n",
       "       'PERUM MUSTIKA PRAKARSA', 'GRIYA RAHMA NO 5',\n",
       "       'PT GALENIUM PHARMASIA LABS', 'DUSUN TUMARITIS',\n",
       "       'PT SIRTU ALAM MAKMUR', \"PONPES AL ASY'ARIYYAH\",\n",
       "       'YAYSAN BANI IHSAN', 'JL. JAGARAKSA NO. 33A ',\n",
       "       'KONTRAKKAN BAPAK H UNANG AHDI', 'MAJLIS AHBABURROSUL KARAWANG',\n",
       "       'PT TIPOTA FINE FURNITURE MANUFAKTUR',\n",
       "       'PASAR PULO JAHE GANG CAIRO PUTSAL',\n",
       "       'KANTOR PASCA SARJANA UNIVERSITAS MUHAMADYAH',\n",
       "       'STAF IT UNIVERSITAS MUHAMADYAH SUMUT',\n",
       "       'PONDOK SUKMA JAYA PERRMAI BLOK B1 NO 15',\n",
       "       'KANTOR REGENCY VII BKN', 'KOM BUMI HUSADA INDAH BLOK II NO 3',\n",
       "       'PT HOTOJIMA TUNA INDONESIA', 'PT SAMUDERA NAGA GLOBAL',\n",
       "       'PT SORIN MAHARASA', 'NO. ', 'PT. SUMBER SINAR SEMESTA',\n",
       "       'PT IDS MEDICAL SYSTEM INDONESIA GEDUNG WISMA 76',\n",
       "       'KAV SAHARA INDAH PERMAI BLOK D8 ', 'PT PUNCAK JAYA SAMUDRA',\n",
       "       'JL. MAWAR II BLOK G. 8 / 11',\n",
       "       'PT EMWAY GLOBALINDO 25TH FL GANDARIA 8 OFF TOWER ',\n",
       "       'VILLA RIZQI ILHAMI', 'KAVLING SEMPER',\n",
       "       'JLN PERINTIS KEMERDEKAAN KM 10 ASMIL YONKAV 10',\n",
       "       'CV GLOBAL IMPERIUM', 'WARNET IGNA NET', 'DEPAN PASAR KEDUNGWUNI',\n",
       "       'PT BELVALLEY INTERNATIONAL',\n",
       "       'SARANA CIPTA, VILLA SERPONG TANGSEL',\n",
       "       '25TH FL GANDARIA 8 OFFICE TOWER GANDARIA CITY',\n",
       "       'RUKO GALAXI AUTOMOTIVE CENTER BLOK HR ', 'GRAMA PURI H1 NO 20 ',\n",
       "       'KOMPI B YONIF 312 KALA HITAM', 'GEDUNG FRANSEDA LANTAI 3 DJPPR ',\n",
       "       'PT NUTRICIA', 'KMPUNG BULAK GG D NO. 18', 'POLRES BALANGAN',\n",
       "       'KOMP. SUNTER AGUNG PODOMORO', 'CV ABBALING INDONESIA',\n",
       "       'PONDOK HIJAU GOLF CLUSTER JADE SUMERCON SERPONG',\n",
       "       'RUKO BOULEVARD M5 NO 29', 'SMPN 2 SURAKARTA',\n",
       "       'KAWASAN INDUSTRI GEDE BAGE',\n",
       "       'MALL KELAPA GADING 1 LT. 1 UNIT 259 GRAMEDIA', 'APOTEK K-24',\n",
       "       'WARUNG PULSA SABRINA', 'BATIK MEKARSARI',\n",
       "       'BANK BRI KANTOR CAB. JAKARTA PLUIT', 'PT ZENSEI INDONESIA ',\n",
       "       'DUSUN KIDUL RT. 007 RW.003',\n",
       "       'DINAS KETAHANAN PANGAN DAN PETERNAKAN', 'UD FAMILI',\n",
       "       'JL. PETERNAKAN 3 RT. 02 / 07', 'DIREK.PENGOLAHAN DAN PEMASARAN',\n",
       "       'KANTOR KOMISI PENGAWAS HAJI INDONESIA (KPHI)',\n",
       "       'PT SUPER INDENTENT', 'PT KERATON ALAM INDONESIA JAKARTA',\n",
       "       'ORANGTUA RAJAN ',\n",
       "       'DS. PASIRGADUNG RT. 02/02 - KONTRAKAN BPK MUHAMAD',\n",
       "       'MENARA STANDAR CHARTERED LEVEL 31 FLOOR', 'JL KALIURANG KM 7 ',\n",
       "       'PT. BINTANG INDAH GEMERLAP', 'GEDUNG WTC 6 FC2',\n",
       "       'TOKO PUSPITA MAS', 'BALI VIEW KINTAMANI BLOK BA NO 4',\n",
       "       'DEPAN TAMAN LANSIA', '2G PONDOK PESANTREN ISLAMIC SENTER BIN BAZ',\n",
       "       'PT. KMU / KARANG MAS UNGGUL',\n",
       "       'KOMPLEK PLATARAN INDAH BINTARO BLOK B6 ',\n",
       "       'KOMP CIBADUYUT PERMAI DEPAN TVRI BDG', 'KANTOR PELAYANAN PAJAK',\n",
       "       'EVONE JAKARTA', 'KPA PROF JABAR', 'BTPN SYARIAH',\n",
       "       'MEDITERANIA GARDEN RESIDENCE 2 UNIT K/GF/P01',\n",
       "       'JL. TG.API-API KOMPLEK PDK LORONG ASTER ', 'NEW LAND OFFICE',\n",
       "       'SINAR ABADI', 'PT KWARSA HEXAGON', 'ZIMMER RATTAN JAKARTA',\n",
       "       'PENGURUS DAERAH JAWA BARAT', 'DUKUH SIDOMULYA',\n",
       "       'BANK BRI UNIT BALAMOA', 'PT. MAKMUR JAYA SAPUTRA PERKASA',\n",
       "       'KOMP. PURI ANGGREK SERANG BLOK C.23 NO. 1 RT/RW ', 'GG. MAKAM',\n",
       "       'KOMP ANGREK LOKA SEKTOR 2-2', 'PKU MUHAMADIYAH IBNU SINA',\n",
       "       'PT SONY INDONESIA', 'FIF CABANG CILEGON', 'VIAR MOTOR',\n",
       "       'TAMRIN CITTY MALL', 'PT NUTRICIA SARI HUSADA',\n",
       "       'PONPES DARUL MUTAQIN', 'PT ESHAM DIMA MANDIRI',\n",
       "       'PERUM NUANSA TRADISI RESIDENCE', 'HD MOBILE',\n",
       "       'PT STAR ASIA BRITHERS', 'PONDOK PESANTREN MIFTAHUL ULUM',\n",
       "       'BDM HARDLINE &TAYS', 'SBC JAKARTA', 'RITRA CARGO LOGISTIK',\n",
       "       'WILIYOS KOLEKTOR GEMILANG', 'WARNG DEPAN KANTOR GRAHA SENTRA)',\n",
       "       'PALM SPRINGS GOLF & COUNTRY CLUB', 'MULIA RAYA PRIMA',\n",
       "       'PT RAMA INDONESIA JABAR KOMP KURDI REGENCY', 'AHS FIKRI',\n",
       "       'RM REMBANG', \"SAMPING MUSHOLAH JAMI'ATUSSOLIHIN\",\n",
       "       'BPPM DARUL ABROR', 'PT MAYA MUNCAR', 'CV. ANEKA PANGAN MAS ',\n",
       "       'ASPOL AIR POLDA BENGKULU', 'APARTEMENT KALIBATA CITY TOWER',\n",
       "       'BELAKANG GEREJA 6 KPS ', 'BELAKANG KORAMIL UTAN KAYU',\n",
       "       'MAHASISWA PTIK 73 STIK-PTIK', 'PERUMAHAN KLIPANG PESONA ASRI 3',\n",
       "       'JL. SENTONO NO. 39', 'KOMPLEK TNI AL PANGKALAN JATI',\n",
       "       'KPP CAKUNG 1 JL. PULOGADUNG VI ', 'KP. SUKABAKTI NO. 72',\n",
       "       'PERUM SUMBER INDAH 3', 'KOS WISMA SAKINAH/',\n",
       "       'PT  NUSA SELARAS INDONESIA',\n",
       "       'KIOS PERCETAKAN JAUDYMEDIA -PASAR KIDUL BUNISEURI',\n",
       "       'PASAR SUMBERKEPUH', 'PT PUSAKA PRIMA TRASFORT',\n",
       "       'KOMPLEK PONPES AINUL HUDA KESUGIHAN', 'KLINIK BETHESDA',\n",
       "       'PT LOGWIN & OCEAN INDONESIA', 'KOMP MASJID ATAQWA',\n",
       "       'RT 01/01 NO 3', 'CV HANNA CENTRAL', 'DUSUN BULUSAN',\n",
       "       'JL. PONDOK KELAPA SELATAN /LAMPIRI RT. 02/05',\n",
       "       'PERUMAHAN TAMAN WANASARI INDAH JL. MATAHARI III'], dtype=object)"
      ]
     },
     "execution_count": 11,
     "metadata": {},
     "output_type": "execute_result"
    }
   ],
   "source": [
    "df['Perusahaan'].unique()"
   ]
  },
  {
   "cell_type": "code",
   "execution_count": 155,
   "metadata": {},
   "outputs": [],
   "source": [
    "df.loc[df['Perusahaan'].str.contains(' '), 'Perusahaan'] = 'Pribadi'"
   ]
  },
  {
   "cell_type": "code",
   "execution_count": 172,
   "metadata": {},
   "outputs": [],
   "source": [
    "df.loc[df['Perusahaan'].str.contains('Perusahaan'), 'Perusahaan'] = 'Usaha/Kantor'"
   ]
  },
  {
   "cell_type": "code",
   "execution_count": 173,
   "metadata": {},
   "outputs": [
    {
     "data": {
      "text/plain": [
       "array(['Pribadi', 'Usaha/Kantor'], dtype=object)"
      ]
     },
     "execution_count": 173,
     "metadata": {},
     "output_type": "execute_result"
    }
   ],
   "source": [
    "df['Perusahaan'].unique()"
   ]
  },
  {
   "cell_type": "code",
   "execution_count": 174,
   "metadata": {},
   "outputs": [
    {
     "data": {
      "text/plain": [
       "CN #           2048\n",
       "Penerima       1566\n",
       "Perusahaan        2\n",
       "Alamat         1635\n",
       "Wilayah         194\n",
       "Isi Kiriman     394\n",
       "SP                4\n",
       "Biaya Kirim     108\n",
       "Diskon            1\n",
       "Total           159\n",
       "dtype: int64"
      ]
     },
     "execution_count": 174,
     "metadata": {},
     "output_type": "execute_result"
    }
   ],
   "source": [
    "df.nunique()"
   ]
  },
  {
   "cell_type": "code",
   "execution_count": 175,
   "metadata": {},
   "outputs": [
    {
     "data": {
      "text/plain": [
       "<matplotlib.axes._subplots.AxesSubplot at 0x7f9ad9ccbda0>"
      ]
     },
     "execution_count": 175,
     "metadata": {},
     "output_type": "execute_result"
    },
    {
     "data": {
      "image/png": "[encoded data removed]",
      "text/plain": [
       "<Figure size 432x288 with 1 Axes>"
      ]
     },
     "metadata": {
      "needs_background": "light"
     },
     "output_type": "display_data"
    }
   ],
   "source": [
    "df['Perusahaan'].value_counts().sort_values(ascending=False)[:35].plot.bar()"
   ]
  },
  {
   "cell_type": "code",
   "execution_count": 176,
   "metadata": {},
   "outputs": [
    {
     "data": {
      "text/html": [
       "<div>\n",
       "<style scoped>\n",
       "    .dataframe tbody tr th:only-of-type {\n",
       "        vertical-align: middle;\n",
       "    }\n",
       "\n",
       "    .dataframe tbody tr th {\n",
       "        vertical-align: top;\n",
       "    }\n",
       "\n",
       "    .dataframe thead th {\n",
       "        text-align: right;\n",
       "    }\n",
       "</style>\n",
       "<table border=\"1\" class=\"dataframe\">\n",
       "  <thead>\n",
       "    <tr style=\"text-align: right;\">\n",
       "      <th></th>\n",
       "      <th>CN #</th>\n",
       "      <th>Penerima</th>\n",
       "      <th>Perusahaan</th>\n",
       "      <th>Alamat</th>\n",
       "      <th>Wilayah</th>\n",
       "      <th>Isi Kiriman</th>\n",
       "      <th>SP</th>\n",
       "      <th>Biaya Kirim</th>\n",
       "      <th>Diskon</th>\n",
       "      <th>Total</th>\n",
       "    </tr>\n",
       "  </thead>\n",
       "  <tbody>\n",
       "    <tr>\n",
       "      <th>0</th>\n",
       "      <td>30071073722</td>\n",
       "      <td>NIMAS AYU</td>\n",
       "      <td>Pribadi</td>\n",
       "      <td>TEMENGGUNG RT. 04 RW. 03 NO. 19</td>\n",
       "      <td>AMBARAWA SEMARANG</td>\n",
       "      <td>DOMPET</td>\n",
       "      <td>SPANDUK</td>\n",
       "      <td>23000.0</td>\n",
       "      <td>Rp0.00</td>\n",
       "      <td>23000.0</td>\n",
       "    </tr>\n",
       "    <tr>\n",
       "      <th>1</th>\n",
       "      <td>30071073723</td>\n",
       "      <td>BPK ANDDREE WIDIHUTOMO</td>\n",
       "      <td>Usaha/Kantor</td>\n",
       "      <td>JLN PROF DR SATRIO NO 164</td>\n",
       "      <td>JAKARTA - DKI JAKARTA</td>\n",
       "      <td>DOKUMEN</td>\n",
       "      <td>PERIKLANAN</td>\n",
       "      <td>13000.0</td>\n",
       "      <td>Rp0.00</td>\n",
       "      <td>13000.0</td>\n",
       "    </tr>\n",
       "    <tr>\n",
       "      <th>2</th>\n",
       "      <td>30071073724</td>\n",
       "      <td>MRS DINNA</td>\n",
       "      <td>Usaha/Kantor</td>\n",
       "      <td>JL TERUSAN KOPO KM 11 NO 76</td>\n",
       "      <td>BANDUNG - JAWA BARAT</td>\n",
       "      <td>DOKUMEN</td>\n",
       "      <td>PERIKLANAN</td>\n",
       "      <td>20000.0</td>\n",
       "      <td>Rp0.00</td>\n",
       "      <td>20000.0</td>\n",
       "    </tr>\n",
       "    <tr>\n",
       "      <th>3</th>\n",
       "      <td>30071073725</td>\n",
       "      <td>IBU MAYA</td>\n",
       "      <td>Usaha/Kantor</td>\n",
       "      <td>JL DURMAN RUKO NO 24 G BLKNG SMA 4 GARDYATI</td>\n",
       "      <td>BANDUNG</td>\n",
       "      <td>DOKUMEN</td>\n",
       "      <td>PERIKLANAN</td>\n",
       "      <td>14000.0</td>\n",
       "      <td>Rp0.00</td>\n",
       "      <td>14000.0</td>\n",
       "    </tr>\n",
       "    <tr>\n",
       "      <th>4</th>\n",
       "      <td>30071073726</td>\n",
       "      <td>ANSORI</td>\n",
       "      <td>Usaha/Kantor</td>\n",
       "      <td>JLN TEUKU UMAR NO 20 RT 4/8</td>\n",
       "      <td>TANGERANG - BANTEN</td>\n",
       "      <td>BAWANG GORENG</td>\n",
       "      <td>SPANDUK</td>\n",
       "      <td>14000.0</td>\n",
       "      <td>Rp0.00</td>\n",
       "      <td>14000.0</td>\n",
       "    </tr>\n",
       "  </tbody>\n",
       "</table>\n",
       "</div>"
      ],
      "text/plain": [
       "          CN #                Penerima    Perusahaan  \\\n",
       "0  30071073722              NIMAS AYU        Pribadi   \n",
       "1  30071073723  BPK ANDDREE WIDIHUTOMO  Usaha/Kantor   \n",
       "2  30071073724               MRS DINNA  Usaha/Kantor   \n",
       "3  30071073725                IBU MAYA  Usaha/Kantor   \n",
       "4  30071073726                  ANSORI  Usaha/Kantor   \n",
       "\n",
       "                                        Alamat                Wilayah  \\\n",
       "0              TEMENGGUNG RT. 04 RW. 03 NO. 19      AMBARAWA SEMARANG   \n",
       "1                    JLN PROF DR SATRIO NO 164  JAKARTA - DKI JAKARTA   \n",
       "2                  JL TERUSAN KOPO KM 11 NO 76   BANDUNG - JAWA BARAT   \n",
       "3  JL DURMAN RUKO NO 24 G BLKNG SMA 4 GARDYATI                BANDUNG   \n",
       "4                 JLN TEUKU UMAR NO 20 RT 4/8      TANGERANG - BANTEN   \n",
       "\n",
       "     Isi Kiriman          SP  Biaya Kirim   Diskon    Total  \n",
       "0         DOMPET     SPANDUK      23000.0  Rp0.00   23000.0  \n",
       "1        DOKUMEN  PERIKLANAN      13000.0  Rp0.00   13000.0  \n",
       "2        DOKUMEN  PERIKLANAN      20000.0  Rp0.00   20000.0  \n",
       "3        DOKUMEN  PERIKLANAN      14000.0  Rp0.00   14000.0  \n",
       "4  BAWANG GORENG     SPANDUK      14000.0  Rp0.00   14000.0  "
      ]
     },
     "execution_count": 176,
     "metadata": {},
     "output_type": "execute_result"
    }
   ],
   "source": [
    "df.head()"
   ]
  },
  {
   "cell_type": "code",
   "execution_count": 199,
   "metadata": {},
   "outputs": [],
   "source": [
    "df = df.drop('Diskon', 1)"
   ]
  },
  {
   "cell_type": "code",
   "execution_count": 200,
   "metadata": {},
   "outputs": [
    {
     "data": {
      "text/html": [
       "<div>\n",
       "<style scoped>\n",
       "    .dataframe tbody tr th:only-of-type {\n",
       "        vertical-align: middle;\n",
       "    }\n",
       "\n",
       "    .dataframe tbody tr th {\n",
       "        vertical-align: top;\n",
       "    }\n",
       "\n",
       "    .dataframe thead th {\n",
       "        text-align: right;\n",
       "    }\n",
       "</style>\n",
       "<table border=\"1\" class=\"dataframe\">\n",
       "  <thead>\n",
       "    <tr style=\"text-align: right;\">\n",
       "      <th></th>\n",
       "      <th>Perusahaan</th>\n",
       "      <th>Alamat</th>\n",
       "      <th>Wilayah</th>\n",
       "      <th>Isi Kiriman</th>\n",
       "      <th>SP</th>\n",
       "      <th>Biaya Kirim</th>\n",
       "      <th>Total</th>\n",
       "    </tr>\n",
       "  </thead>\n",
       "  <tbody>\n",
       "    <tr>\n",
       "      <th>0</th>\n",
       "      <td>Pribadi</td>\n",
       "      <td>TEMENGGUNG RT. 04 RW. 03 NO. 19</td>\n",
       "      <td>AMBARAWA SEMARANG</td>\n",
       "      <td>DOMPET</td>\n",
       "      <td>SPANDUK</td>\n",
       "      <td>23000.0</td>\n",
       "      <td>23000.0</td>\n",
       "    </tr>\n",
       "    <tr>\n",
       "      <th>1</th>\n",
       "      <td>Usaha/Kantor</td>\n",
       "      <td>JLN PROF DR SATRIO NO 164</td>\n",
       "      <td>JAKARTA - DKI JAKARTA</td>\n",
       "      <td>DOKUMEN</td>\n",
       "      <td>PERIKLANAN</td>\n",
       "      <td>13000.0</td>\n",
       "      <td>13000.0</td>\n",
       "    </tr>\n",
       "    <tr>\n",
       "      <th>2</th>\n",
       "      <td>Usaha/Kantor</td>\n",
       "      <td>JL TERUSAN KOPO KM 11 NO 76</td>\n",
       "      <td>BANDUNG - JAWA BARAT</td>\n",
       "      <td>DOKUMEN</td>\n",
       "      <td>PERIKLANAN</td>\n",
       "      <td>20000.0</td>\n",
       "      <td>20000.0</td>\n",
       "    </tr>\n",
       "    <tr>\n",
       "      <th>3</th>\n",
       "      <td>Usaha/Kantor</td>\n",
       "      <td>JL DURMAN RUKO NO 24 G BLKNG SMA 4 GARDYATI</td>\n",
       "      <td>BANDUNG</td>\n",
       "      <td>DOKUMEN</td>\n",
       "      <td>PERIKLANAN</td>\n",
       "      <td>14000.0</td>\n",
       "      <td>14000.0</td>\n",
       "    </tr>\n",
       "    <tr>\n",
       "      <th>4</th>\n",
       "      <td>Usaha/Kantor</td>\n",
       "      <td>JLN TEUKU UMAR NO 20 RT 4/8</td>\n",
       "      <td>TANGERANG - BANTEN</td>\n",
       "      <td>BAWANG GORENG</td>\n",
       "      <td>SPANDUK</td>\n",
       "      <td>14000.0</td>\n",
       "      <td>14000.0</td>\n",
       "    </tr>\n",
       "  </tbody>\n",
       "</table>\n",
       "</div>"
      ],
      "text/plain": [
       "     Perusahaan                                       Alamat  \\\n",
       "0       Pribadi              TEMENGGUNG RT. 04 RW. 03 NO. 19   \n",
       "1  Usaha/Kantor                    JLN PROF DR SATRIO NO 164   \n",
       "2  Usaha/Kantor                  JL TERUSAN KOPO KM 11 NO 76   \n",
       "3  Usaha/Kantor  JL DURMAN RUKO NO 24 G BLKNG SMA 4 GARDYATI   \n",
       "4  Usaha/Kantor                 JLN TEUKU UMAR NO 20 RT 4/8    \n",
       "\n",
       "                 Wilayah    Isi Kiriman          SP  Biaya Kirim    Total  \n",
       "0      AMBARAWA SEMARANG         DOMPET     SPANDUK      23000.0  23000.0  \n",
       "1  JAKARTA - DKI JAKARTA        DOKUMEN  PERIKLANAN      13000.0  13000.0  \n",
       "2   BANDUNG - JAWA BARAT        DOKUMEN  PERIKLANAN      20000.0  20000.0  \n",
       "3                BANDUNG        DOKUMEN  PERIKLANAN      14000.0  14000.0  \n",
       "4     TANGERANG - BANTEN  BAWANG GORENG     SPANDUK      14000.0  14000.0  "
      ]
     },
     "execution_count": 200,
     "metadata": {},
     "output_type": "execute_result"
    }
   ],
   "source": [
    "df.head()"
   ]
  },
  {
   "cell_type": "code",
   "execution_count": 201,
   "metadata": {},
   "outputs": [
    {
     "data": {
      "text/plain": [
       "array(['DOMPET', 'DOKUMEN', 'BAWANG GORENG', 'SIWANG', 'SANDAL',\n",
       "       'STNK MOTOR', 'KERUPUK MENTAH', 'BATIK', 'ACCESORIES',\n",
       "       'MAKANAN PAKAIAN', 'BUKU FILE', 'CREAM COSMETIK', 'SUMPIT',\n",
       "       'TERASI', 'MAKANAN RINGAN', 'CELANA', 'PEPAYA', 'KERUPUK',\n",
       "       'KARTU P?DANA', 'PAKAIAN/HIJAB',\n",
       "       'STNK MOTOR SURAT KET DAN ACCESORIES', 'SAMPLE ANYAMAN',\n",
       "       'MUTASI KENDARAAN BPKB & STNK MOBIL', 'SAMPLE ROTTAN', 'SEPATU',\n",
       "       'BAJU', 'SAMPEL ALUMUNIUM', 'MAKANAN', 'PAKAIAN',\n",
       "       'MAINAN ANAK (REPLIKA SENJATA)', 'KAIN', 'BEDAK', 'KAOS',\n",
       "       'SEPATU KULIT', 'ACCESORIES GELANG TASBIH',\n",
       "       'SAMPEL RATTAN PLASTIK', 'BAWANG GORENGG', 'PAKAIAN HIJAH',\n",
       "       'PAKAIAN HIJAB', 'PAKAIANN HIJAB', 'PAKAIN HIJAB',\n",
       "       'SPAREPAT MOTOR', 'TAS', 'SAMPEL PLASTIK', 'BUKU AGENDA',\n",
       "       'BUAH MANGGA ', 'PARFUM', 'BESI', 'SAMPLE KAYU', 'STNK  MOBIL',\n",
       "       'KAIN BATIK', 'KOSMETIK (BODY SPA)', 'TIMBANGAN GANTUNG',\n",
       "       'ASESORIS BROS DLL', 'SEMPLE KAYU', 'PERLENGKAPAN BAYI',\n",
       "       'BAWANG GERONG', 'STNK MOBIL / DOC', 'SEMPLE RATTTAN',\n",
       "       'PASPORT KK KTP BUKU PELAUT PHOTO', 'SAMPLE KAIN',\n",
       "       'COSMETIK CREAM WAJAH', 'KUNCI MOTOR', 'SAMPLE ROTTAN PLASTIK',\n",
       "       'KERUDUNG', 'IKAN ASIN', 'FLASDIKS', 'MAKANAN (KUE KERING)',\n",
       "       'UNDANGAN', 'SAMPEL BATIK', 'KTP', 'BESI GLINDING TAKE UP',\n",
       "       'STNK 2 PLAT 2 UNIT', 'STNK 1 BPKB 2 PLAT 2 MOTOR ', 'JAMU',\n",
       "       'SEMPLE PLASTIK', 'PERALATAN RUMAH TANGGA', 'E MONEY (KARTU BUS)',\n",
       "       'MUTASI KENDARAAN', 'MAKANAN KERING',\n",
       "       'DAUN  (OBAT HERBAL)DAN BAWANG GORENG', 'ACCESORIES HIJAB /BROS',\n",
       "       'BATIK ', 'IKAN ASIN KERING', 'MAKANAN KERING (KERUPUK)',\n",
       "       'KOSMETIK (CREAM)', 'HIJAB', 'SAMPEL KAYU', 'COSMETIK', 'MAINAN',\n",
       "       'SIWANG DAN HIJAB', 'SPAREPART', 'MAINAN ANAK/KAPAL KOTOK2',\n",
       "       'SAMPEL ANYAMAN PLASTIK', 'CIPUT (DALAMAN HIJAB)',\n",
       "       'MAINAN ANAK (MINIATUR PLASTIK)', 'STNK DAN BPKB MOBIL',\n",
       "       'MAENAN MOBIL', 'BPKB DAN STNK MOTOR', 'OBAT CAIR', 'ACCESORIES ',\n",
       "       'ASESORIS. GANTUNGAN KUNCI', 'COVER JOK ROTTAN', 'PELINDUNG KACA',\n",
       "       'BATU POLES STAINLES LANGSOL', 'PISAU ROTAN DAN AMPLASS',\n",
       "       'KOLAM RENANG ANAK', 'KORSET', 'SEPATU KURSI ROTTAN',\n",
       "       'SAMPLE KERDUS', 'SPREI', 'MINIATUR MAENAN',\n",
       "       'KARTU ATM DAN TASBIH', 'GANTUNGAN BAJU', 'KAWAT MOBIL-MOBILAN',\n",
       "       'STIKER', 'PLASTIK', 'STNK MOBIL', 'BAHAN',\n",
       "       'MAKANAN RINGAN DAN PAKAIAN', 'BUKU TABUNGAN', 'OBAT DAN BUKU',\n",
       "       'MUKENA/KAIN', 'OBAT HERBAL (KAPSUL)',\n",
       "       'OBAT HERBAL (KAPSUL/TABLET)', 'ASESORIS BROSS',\n",
       "       'MAKANAN DAN ASINAN', 'TAS KECIL', 'MATA BORR', 'BROSS',\n",
       "       'ACCESORIES HP', 'PAKAIAN DAN CELENGAN', 'HEADSET HP',\n",
       "       'MUUG PLASTIK', 'JILBAB', 'KAIN SARUNG', 'MAKANAN KERIPIK',\n",
       "       'ROTTAN', 'SABUN KESEHATAN', 'SABUNB KESEHATAN', 'PAKAIN',\n",
       "       'BRIKET ARANG', 'PAKAIAN BAYI DAN DOT', 'SOVENIR TASBIH',\n",
       "       'KARANJANG ROTTAN', 'SAMPLE ROTAN', 'PAKAIN/SEPATU',\n",
       "       'STNK MOTOR ASLI', 'PLAT NOMOR MOBIL', 'ALUMUNIUM', 'KK',\n",
       "       'PAKAIAN DAN MAKANAN', 'BPKB DAN STNK MOBIL ASLI',\n",
       "       'SAMPLE BAHAN PLASTIK', 'BUKU', 'BATU AKIK', 'SIM', 'PIPA',\n",
       "       'DOC DAN STNK MOTOR', 'CRIEM MUKA', 'KASA SETERIL',\n",
       "       'STNK DAN BPKB MOTOR', 'SAMPLE RATTAN', 'SAMPLE BUSA,,SAMPLE BUSA',\n",
       "       'SAMPLE ANYAM (FLANEL)', '4 PASSPORT', 'SAMPLE BUSA',\n",
       "       'SAMPLE ANYAM', 'MANGGA', 'GABAH/BIBIT PADI', 'SARUNG DAN BAJU',\n",
       "       'SPAREPAT MOBIL', 'KTP DAN STNK MOTOR', 'BAJU KOKO',\n",
       "       'MUTASI KENDARAAN & BPKB & STNK MOBIL', 'KURMA',\n",
       "       'SPAREPART MESIN CETAK', 'RAPORT DAN DOKUMEN',\n",
       "       'BONEKA DAN PAKAIAN', 'SAMPLE UKUR CUSHION', 'SABUN MANDI CAIR',\n",
       "       'SEPATU TAS', 'TAS BINGKAI', 'SARUNG JOK', 'PEMBERSIH CLEANSER',\n",
       "       'OBAT ', 'COVER', 'SAMPEL RATTAN', 'LAPISAN KERUDUNG',\n",
       "       'KUEH/MAKANAN', 'RAK PIRING', 'BAJU COSMETIK', 'CASSON BUSA',\n",
       "       'PAKAIN BATIK', 'KURMA DAN BAWANG ', 'PAKAIAN DAN SEPATU',\n",
       "       'PAKAIAN BATIK', 'CAVER CASSEN', 'STNK MOTOR DAN DOC',\n",
       "       'SAMPLE PLASTIK', 'OBAT PIL', 'KUE KERING', 'SEMPLE ANYAM ROTAN',\n",
       "       'BAANG GORENG', 'MASKER', 'SPRAI', 'MAKANAN RINGAN KACANG',\n",
       "       'SABUN COSMETIK', 'SEPAREPAT MOTOR', 'KULIT KERANG',\n",
       "       'BPKB MOTOR PLAT NOMOR DOC', 'SAMPEL GELAS PLASTIK', 'KOSMETIK',\n",
       "       'PLAT NOMER MOTOR', 'BAHAN KAIN', 'MAINAN ANAK',\n",
       "       'MAKANAN/KRIPIK SEBLAK KERING', 'PAKAIN DAN MUK GELAS',\n",
       "       'PAKAIAN DAN MUK GELAS', 'IJASAH 3 KTP 1 ASLI SEMUA', 'BUKU KITAB',\n",
       "       'KARTU ATM', 'LOGO SEKOLAH ', 'KAOS DAN TOPI', 'MESIN RUMPUT',\n",
       "       'HIJAB 2', 'ACESORIES ', 'CREAM KOSMETIK', 'ASESORIS',\n",
       "       '2 PASSPORT', 'PAMPRESS ', 'IJAZAH DAN BERKAS FC AN',\n",
       "       'JELY FOWDER', 'JELY POWDER', 'ALKES', 'MAKARONI', 'BAJU ANAK',\n",
       "       'PLAT MOTOR 10. BPKB 1 STNK 1', 'IJAZAH DAN SERTIFIKAT',\n",
       "       'SPIKER LAPTOP', 'JAMU HERBAL', 'SEMPLE PLASTIK ROTAN', 'KTP ASLI',\n",
       "       'VOCER UMROH BUKU VAKSIN BUKU NIKAH PASPORT',\n",
       "       'MAKANAN KERING DAN BAJU', 'BENDERA', 'ACCESORIES GELANG MAINAN',\n",
       "       'PAKAIN/HIJAB', 'KUE', 'MESIN BOR DAN ALAT TEKNIK',\n",
       "       'STNK MOTOR ASLI 1', 'BUAH MANGGA', 'KAIN HIJAB',\n",
       "       'SEMPLE ANYAMAN PLASTIK', 'ROTAN SINTETIS',\n",
       "       'PLAT NO MOTOR 4. BPKB 1 STNK 1 MOTOR', 'RETURAN PARFUM',\n",
       "       'MESIN BOR,', 'PLAT NOMOR', 'MESIN BORR', 'BPKB MOTOR',\n",
       "       'LAMARAN KERJA. IJASAH ASLI 1', 'MAKANAN/KUE', 'SABUN',\n",
       "       'SEMPLE TALI ROTAN', 'MAKANAN ', 'PAKIAN', 'UBI', 'IJAZAH ',\n",
       "       'KARUNG', 'STNK BPKB MOBIL ASLI', 'JAKET', 'PLAT DAN STNK MOTOR',\n",
       "       'BPKB & STNK MOTOR SERTA KTP', 'MADU', 'PAKAIAN ', 'SENDAL',\n",
       "       'PENGAIT AYUNAN', 'ALAT TERAPI',\n",
       "       'MAKANAN RINGAN TELUR MATANG KEPINGAN CD', 'SERTIFIKAT TANAH ASLI',\n",
       "       'SQUISI (MAINAN BUSA)', 'KAKI PLASTIK', 'KAIN SEJADAH',\n",
       "       'SANDAL SAJADAH DAN BAHAN', 'MAKANAN/KRUPUK', 'HUJAB',\n",
       "       'KAIN DAN SAJADAH', 'ALAT KESEHATAN', 'STNK BPKB MOTOR DAN PLAT',\n",
       "       'TAS MAKANAN KERING', 'KASET', 'KERAJINAN DARI TANAH LIAT',\n",
       "       'SEKALA ELEKTRONIK ', 'SAMPLE PASIR & DOC', 'KANCING',\n",
       "       'SERAGAM SEKOLAH', 'SHOCK BEAKER', 'ACCESORIES HIJAB / BROS',\n",
       "       'PAKAIAN DAN MAKANAN KERING', 'PLAT MOBIL', 'JARING NET', 'DODOL',\n",
       "       'PATUNG WISUDA', 'ROTTAN SAMPLE', 'KERAJINAN ROTTAN', 'KAIN BAJU',\n",
       "       'SEMPEL PISAU', 'TAS GUNUNG', 'BPKB MOTOR 23',\n",
       "       'KUE BASAH (TAPI TIDAK BERAIR)', 'COVER JOK 1 SET',\n",
       "       'ALAT MESIN KAYU', 'MESIN BOR', '2 KTP', 'JAMU BUBUK', 'BONEKA',\n",
       "       'TOPENG', 'IJAZAH SMK', 'BUKU SUSU BUBUK ', 'BPKB MOTOR ',\n",
       "       'BAD COVER', 'TUPARWERE', 'SAMPEL ANYAMAN RATTAN', 'KARTU BPJS',\n",
       "       'ROTAN', 'MAKANAN KERING ', 'SAMPLE ROTTAN ', 'JAMU (BUBUK)',\n",
       "       'DOC PERPEMB', 'KACANG', 'SEPRAI', '2 STNK MOTOR 8 PLAT',\n",
       "       'STNK MOTOR 1 DAN PLAT 2', 'BUKU KITAB DAN PAKAIAN', 'EFEK GITAR',\n",
       "       'RATTAN', 'PECI', 'TELOR ASIN', 'ALAT MESIN PLASTIK',\n",
       "       'JAMU REMPAH (BUBUK)', '1 STNK MOBIL 1 STNK MOTOR',\n",
       "       'ASESORIS/KALUNG ATUM', 'SARUNG TANGAN', 'RAKSEPATU',\n",
       "       'ALAT MESIN BOR', 'ACCESORIES (BROSS)', 'SAMPLE PLASTIK ',\n",
       "       'MAINAN (MOBIL BIASA)', 'OBAT (KAPSUL)', 'KAKI KURSI',\n",
       "       'MADU DAN SABUN KECANTIKAN', 'KAIN DAN MAKANAN KERING (KERUPUK)',\n",
       "       'SMPLE KABEL', 'MAIANAN (MOBIL-MOBILAN)', 'SAMPLE ANYAMAN BAHAN',\n",
       "       'KOSMETIK (BEDAK PADAT)', 'SPAREPAT GERGAJI',\n",
       "       'PAKAIAN DAN SUSU BUBUK', 'STNK MOTOR DAN KTP',\n",
       "       'STNK MOBIL DAN STNK MOTOR', 'OBAT', 'PISAU DOWEL ROTTAN',\n",
       "       'SAMPEL KAIN', 'KAI BATIK', 'PERLENGKAPAN ULANG TAHUN',\n",
       "       'MAKANAN RINGAN SABUN PADAT', 'BANNER', 'BUKU NIKAH',\n",
       "       'COVER CUSHION', 'ACESORIES MOTOR (CAKRAM BRENBO)',\n",
       "       'SAMPLE GESPER', 'CHARGER BARTERAI (RUSAK)', 'JARING IKAN',\n",
       "       'HP NOKIA 1 UNIT WARNA HITAM DALAM KEADAAN RUSAK', 'PASTA GIGI',\n",
       "       'PAKAIAN SEPATU', 'MAKANAN JAS HUJAN BUKU', 'BAUD', 'SPERPART',\n",
       "       'MESIN POTONG', 'PASPOR', 'CUSSION', 'BPKB & STNK MOBIL DAN KTP',\n",
       "       'ACCESORIES HIJAB ', 'CIPUT HIJAB', 'ACCESORIES HIJAB',\n",
       "       'MAKANAN (IKAN)', 'PAKAN NIKAN', 'COSMETIKIK',\n",
       "       'BPKB+STNK MOTOR ASLI', 'TASBIH', 'MAINAN PATUNG', 'MAKANAN IKAN'],\n",
       "      dtype=object)"
      ]
     },
     "execution_count": 201,
     "metadata": {},
     "output_type": "execute_result"
    }
   ],
   "source": [
    "df['Isi Kiriman'].unique()"
   ]
  },
  {
   "cell_type": "code",
   "execution_count": 354,
   "metadata": {},
   "outputs": [],
   "source": [
    "df.loc[df['Isi Kiriman'].str.contains('SERTIFIKAT'), 'Isi Kiriman'] = 'Dokumen'"
   ]
  },
  {
   "cell_type": "code",
   "execution_count": 392,
   "metadata": {},
   "outputs": [],
   "source": [
    "df.loc[df['Isi Kiriman'].str.contains('TUPAR'), 'Isi Kiriman'] = 'Paket'"
   ]
  },
  {
   "cell_type": "code",
   "execution_count": 419,
   "metadata": {},
   "outputs": [
    {
     "data": {
      "text/plain": [
       "array(['Dokumen', 'Paket'], dtype=object)"
      ]
     },
     "execution_count": 419,
     "metadata": {},
     "output_type": "execute_result"
    }
   ],
   "source": [
    "df['Isi Kiriman'].unique()"
   ]
  },
  {
   "cell_type": "code",
   "execution_count": 418,
   "metadata": {},
   "outputs": [
    {
     "data": {
      "text/plain": [
       "<matplotlib.axes._subplots.AxesSubplot at 0x7f9ad7cb1208>"
      ]
     },
     "execution_count": 418,
     "metadata": {},
     "output_type": "execute_result"
    },
    {
     "data": {
      "image/png": "[encoded data removed]",
      "text/plain": [
       "<Figure size 432x288 with 1 Axes>"
      ]
     },
     "metadata": {
      "needs_background": "light"
     },
     "output_type": "display_data"
    }
   ],
   "source": [
    "df['Isi Kiriman'].value_counts().sort_values(ascending=False)[:35].plot.bar()"
   ]
  },
  {
   "cell_type": "code",
   "execution_count": 420,
   "metadata": {},
   "outputs": [
    {
     "data": {
      "text/html": [
       "<div>\n",
       "<style scoped>\n",
       "    .dataframe tbody tr th:only-of-type {\n",
       "        vertical-align: middle;\n",
       "    }\n",
       "\n",
       "    .dataframe tbody tr th {\n",
       "        vertical-align: top;\n",
       "    }\n",
       "\n",
       "    .dataframe thead th {\n",
       "        text-align: right;\n",
       "    }\n",
       "</style>\n",
       "<table border=\"1\" class=\"dataframe\">\n",
       "  <thead>\n",
       "    <tr style=\"text-align: right;\">\n",
       "      <th></th>\n",
       "      <th>Perusahaan</th>\n",
       "      <th>Alamat</th>\n",
       "      <th>Wilayah</th>\n",
       "      <th>Isi Kiriman</th>\n",
       "      <th>SP</th>\n",
       "      <th>Biaya Kirim</th>\n",
       "      <th>Total</th>\n",
       "    </tr>\n",
       "  </thead>\n",
       "  <tbody>\n",
       "    <tr>\n",
       "      <th>1</th>\n",
       "      <td>Usaha/Kantor</td>\n",
       "      <td>JLN PROF DR SATRIO NO 164</td>\n",
       "      <td>JAKARTA - DKI JAKARTA</td>\n",
       "      <td>Dokumen</td>\n",
       "      <td>PERIKLANAN</td>\n",
       "      <td>13000.0</td>\n",
       "      <td>13000.0</td>\n",
       "    </tr>\n",
       "    <tr>\n",
       "      <th>3</th>\n",
       "      <td>Usaha/Kantor</td>\n",
       "      <td>JL DURMAN RUKO NO 24 G BLKNG SMA 4 GARDYATI</td>\n",
       "      <td>BANDUNG</td>\n",
       "      <td>Dokumen</td>\n",
       "      <td>PERIKLANAN</td>\n",
       "      <td>14000.0</td>\n",
       "      <td>14000.0</td>\n",
       "    </tr>\n",
       "    <tr>\n",
       "      <th>4</th>\n",
       "      <td>Usaha/Kantor</td>\n",
       "      <td>JLN TEUKU UMAR NO 20 RT 4/8</td>\n",
       "      <td>TANGERANG - BANTEN</td>\n",
       "      <td>Paket</td>\n",
       "      <td>SPANDUK</td>\n",
       "      <td>14000.0</td>\n",
       "      <td>14000.0</td>\n",
       "    </tr>\n",
       "    <tr>\n",
       "      <th>5</th>\n",
       "      <td>Usaha/Kantor</td>\n",
       "      <td>JLN RAYA MAUK KM 7 CADAS</td>\n",
       "      <td>TANGERANG - BANTEN</td>\n",
       "      <td>Paket</td>\n",
       "      <td>PROMO</td>\n",
       "      <td>14000.0</td>\n",
       "      <td>14000.0</td>\n",
       "    </tr>\n",
       "    <tr>\n",
       "      <th>7</th>\n",
       "      <td>Usaha/Kantor</td>\n",
       "      <td>JLN WARUNG JATI BARAT NO 22A</td>\n",
       "      <td>JAKARTA - DKI JAKARTA</td>\n",
       "      <td>Paket</td>\n",
       "      <td>PERIKLANAN</td>\n",
       "      <td>13000.0</td>\n",
       "      <td>13000.0</td>\n",
       "    </tr>\n",
       "  </tbody>\n",
       "</table>\n",
       "</div>"
      ],
      "text/plain": [
       "     Perusahaan                                       Alamat  \\\n",
       "1  Usaha/Kantor                    JLN PROF DR SATRIO NO 164   \n",
       "3  Usaha/Kantor  JL DURMAN RUKO NO 24 G BLKNG SMA 4 GARDYATI   \n",
       "4  Usaha/Kantor                 JLN TEUKU UMAR NO 20 RT 4/8    \n",
       "5  Usaha/Kantor                    JLN RAYA MAUK KM 7 CADAS    \n",
       "7  Usaha/Kantor                JLN WARUNG JATI BARAT NO 22A    \n",
       "\n",
       "                 Wilayah Isi Kiriman          SP  Biaya Kirim    Total  \n",
       "1  JAKARTA - DKI JAKARTA     Dokumen  PERIKLANAN      13000.0  13000.0  \n",
       "3                BANDUNG     Dokumen  PERIKLANAN      14000.0  14000.0  \n",
       "4     TANGERANG - BANTEN       Paket     SPANDUK      14000.0  14000.0  \n",
       "5     TANGERANG - BANTEN       Paket       PROMO      14000.0  14000.0  \n",
       "7  JAKARTA - DKI JAKARTA       Paket  PERIKLANAN      13000.0  13000.0  "
      ]
     },
     "execution_count": 420,
     "metadata": {},
     "output_type": "execute_result"
    }
   ],
   "source": [
    "df.head()"
   ]
  },
  {
   "cell_type": "code",
   "execution_count": 422,
   "metadata": {},
   "outputs": [
    {
     "data": {
      "text/plain": [
       "array(['JAKARTA - DKI JAKARTA', 'BANDUNG', 'TANGERANG - BANTEN',\n",
       "       'JAKARTA', 'CIKARANG SELATAN (BKI)', 'TANGERANG',\n",
       "       'KOTABARU - KALIMANTAN SELATAN', 'BEKASI', 'CIKARANG BARAT (BKI)',\n",
       "       'BADUNG BALI', 'SAMARINDA', 'SEMARANG', 'PASURUAN - JAWA TIMUR',\n",
       "       'TANGERANG SELATAN - BANTEN', 'PASAR KEMIS TGR',\n",
       "       'SURABAYA - JAWA TIMUR', 'DARMASRAYA - SUMATERA BARAT', 'DEPOK',\n",
       "       'JOHAN PAHLAWAN ACEH BARAT', 'CIBITUNG (BKI)', 'TEGAL', 'SURABAYA',\n",
       "       'BADUNG - BALI', 'BOGOR', 'PEKALONGAN',\n",
       "       'TOBA SAMOSIR - SUMATERA UTARA', 'TAHUNAN JEPARA',\n",
       "       'SERANG - BANTEN', 'PANDAAN PASURUAN',\n",
       "       'SLEMAN - DAERAH ISTIMEWA YOGYAKARTA',\n",
       "       'BANYUASIN - SUMATERA SELATAN', 'MEDAN - SUMATERA UTARA',\n",
       "       'CURUG TGR', 'AKABILURU LIMA PULUH KOTO', 'WONOKERTO PKL',\n",
       "       'PALEMBANG - SUMATERA SELATAN',\n",
       "       'BANDA ACEH - NANGROE ACEH DARUSSALAM', 'CIKARANG UTARA (BKI)',\n",
       "       'BANTUL - DAERAH ISTIMEWA YOGYAKARTA',\n",
       "       'YOGYAKARTA - DAERAH ISTIMEWA YOGYAKARTA', 'CIKARANG PUSAT (BKI)',\n",
       "       'SERPONG TGR', 'KEDIRI - JAWA TIMUR', 'MEDAN', 'KEDIRI',\n",
       "       'PONDOK AREN TGR', 'KARANGMONCOL PURBALINGGA', 'DUMAI - RIAU',\n",
       "       'KOSAMBI TGR', 'SORONG - PAPUA BARAT', 'TASIKMALAYA',\n",
       "       'LUWU TIMUR - SULAWESI SELATAN', 'PONTIANAK',\n",
       "       'LAHAT - SUMATERA SELATAN', 'KUNINGAN', 'LAMONGAN - JAWA TIMUR',\n",
       "       'MAKASSAR - SULAWESI SELATAN', 'PADANG ', 'MANADO',\n",
       "       'CILEGON - BANTEN', 'MOJOKERTO - JAWA TIMUR',\n",
       "       'TULUNG AGUNG - JAWA TIMUR', 'TARAKAN', 'PACITAN - JAWA TIMUR',\n",
       "       'PALANGKARAYA', 'BIREUEN - NANGROE ACEH DARUSSALAM',\n",
       "       'PADALARANG BDO', 'BAKI SUKOHARJO',\n",
       "       'GUNUNG KIDUL - DAERAH ISTIMEWA YOGYAKARTA', 'GRESIK - JAWA TIMUR',\n",
       "       'TANAH MERAH BANGKALAN', 'BANYUWANGI - JAWA TIMUR',\n",
       "       'PANDEGLANG - BANTEN', 'PEKANBARU - RIAU',\n",
       "       'PANGKAL PINANG - KEPULAUAN BANGKA BELITUNG',\n",
       "       'SAMARINDA - KALIMANTAN TIMUR', 'PRABUMULIH - SUMATERA SELATAN',\n",
       "       'BENGKULU', 'KUDUS', 'BREBES', 'MALANG - JAWA TIMUR', 'BIAK',\n",
       "       'BATAM', 'SERPONG UTARA TGR', 'BATAM - KEPULAUAN RIAU',\n",
       "       'JOMBANG - JAWA TIMUR', 'DENPASAR - BALI', 'TURI LAMONGAN',\n",
       "       'MELONG CIMAHI BDO', 'BONE - SULAWESI SELATAN',\n",
       "       'PADANG  - SUMATERA BARAT', 'SERANG', 'TANJUNG PANDAN',\n",
       "       'PADANG PANJANG - SUMATERA BARAT', 'PAYAKUMBUH  - SUMATERA BARAT',\n",
       "       'SEPATAN TIMUR TGR', 'TELUKJAMBE BARAT KRW', 'BENGKULU - BENGKULU',\n",
       "       'SIDOARJO - JAWA TIMUR', 'SANGGAU - KALIMANTAN BARAT', 'PALU',\n",
       "       'KLATEN', 'CIREBON', 'SETU TGR', 'PEKANBARU', 'KARAWANG',\n",
       "       'BINTARO TGR', 'JAMBI - JAMBI', 'PALEMBANG', 'CIANJUR',\n",
       "       'MADIUN - JAWA TIMUR', 'MATARAM - NUSA TENGGARA BARAT',\n",
       "       'BACUKIKI BARAT PAREPARE', 'BANJARMASIN - KALIMANTAN SELATAN',\n",
       "       'BAE KUDUS', 'DELI TUA DELI SERDANG', 'BANDAR LAMPUNG - LAMPUNG',\n",
       "       'TANJUNG PINANG - KEPULAUAN RIAU', 'CARINGIN BGR',\n",
       "       'BANGKA TENGAH - KEPULAUAN BANGKA BELITUNG', 'CIKUPA TGR',\n",
       "       'SIDOARJO', 'TAMBAK BANYUMAS', 'LAMPUNG SELATAN - LAMPUNG',\n",
       "       'PADANG PANJANG', 'SIAK - RIAU', 'LEBAK - BANTEN', 'PAKUHAJI TGR',\n",
       "       'LAMPUNG TENGAH - LAMPUNG', 'CIPUTAT TGR', 'GIANYAR - BALI',\n",
       "       'BANTUL BANTUL', 'PROBOLINGGO - JAWA TIMUR', 'MAKASSAR',\n",
       "       'PURWOKERTO', 'KALIJATI SUBANG', 'PONTIANAK - KALIMANTAN BARAT',\n",
       "       'SLAWI TEGAL', 'SUBANG', 'BALANGAN - KALIMANTAN SELATAN',\n",
       "       'MINAHASA UTARA - SULAWESI UTARA', 'SINGKAWANG - KALIMANTAN BARAT',\n",
       "       'PAYAKUMBUH', 'PAMEKASAN - JAWA TIMUR', 'NGAWI - JAWA TIMUR',\n",
       "       'KULONPROGO - DAERAH ISTIMEWA YOGYAKARTA',\n",
       "       'MANOKWARI - PAPUA BARAT', 'BERAU - KALIMANTAN TIMUR',\n",
       "       'BANGKA - KEPULAUAN BANGKA BELITUNG', 'BANGGAI - SULAWESI TENGAH'],\n",
       "      dtype=object)"
      ]
     },
     "execution_count": 422,
     "metadata": {},
     "output_type": "execute_result"
    }
   ],
   "source": [
    "df1['Wilayah'].unique()"
   ]
  },
  {
   "cell_type": "code",
   "execution_count": 615,
   "metadata": {},
   "outputs": [],
   "source": [
    "df.loc[df['Wilayah'].str.contains('PAYAKUMBUH'), 'Wilayah'] = 'Sumatra Barat'"
   ]
  },
  {
   "cell_type": "code",
   "execution_count": 616,
   "metadata": {},
   "outputs": [
    {
     "data": {
      "text/plain": [
       "array(['Jakarta', 'Jawa Barat', 'Banten', 'Kalimantan Selatan', 'Bali',\n",
       "       'Kalimantan Timur', 'Jawa Tengah', 'Jawa Timur', 'Sumatra Barat',\n",
       "       'Aceh Barat', 'Sumatra Utara', 'DIY', 'Sumatra Selatan', 'NAD',\n",
       "       'Riau', 'Papua Barat', 'Sulawesi Selatan', 'Kalimantan Barat',\n",
       "       'Sulawesi Utara', 'Kalimantan Utara', 'Kalimantan Tengah',\n",
       "       'Kepulauan Bangka Belitung', 'Bengkulu', 'Papua', 'Kepulauan Riau',\n",
       "       'Sulawesi Tengah', 'Jambi', 'NTB', 'Lampung'], dtype=object)"
      ]
     },
     "execution_count": 616,
     "metadata": {},
     "output_type": "execute_result"
    }
   ],
   "source": [
    "df['Wilayah'].unique()"
   ]
  },
  {
   "cell_type": "code",
   "execution_count": 618,
   "metadata": {},
   "outputs": [
    {
     "data": {
      "text/plain": [
       "<matplotlib.axes._subplots.AxesSubplot at 0x7f9ad77d70f0>"
      ]
     },
     "execution_count": 618,
     "metadata": {},
     "output_type": "execute_result"
    },
    {
     "data": {
      "image/png": "[encoded data removed]",
      "text/plain": [
       "<Figure size 432x288 with 1 Axes>"
      ]
     },
     "metadata": {
      "needs_background": "light"
     },
     "output_type": "display_data"
    }
   ],
   "source": [
    "df['Wilayah'].value_counts().sort_values(ascending=False)[:].plot.bar()"
   ]
  },
  {
   "cell_type": "code",
   "execution_count": 619,
   "metadata": {},
   "outputs": [],
   "source": [
    "df1 = df"
   ]
  },
  {
   "cell_type": "code",
   "execution_count": 620,
   "metadata": {},
   "outputs": [
    {
     "data": {
      "text/html": [
       "<div>\n",
       "<style scoped>\n",
       "    .dataframe tbody tr th:only-of-type {\n",
       "        vertical-align: middle;\n",
       "    }\n",
       "\n",
       "    .dataframe tbody tr th {\n",
       "        vertical-align: top;\n",
       "    }\n",
       "\n",
       "    .dataframe thead th {\n",
       "        text-align: right;\n",
       "    }\n",
       "</style>\n",
       "<table border=\"1\" class=\"dataframe\">\n",
       "  <thead>\n",
       "    <tr style=\"text-align: right;\">\n",
       "      <th></th>\n",
       "      <th>Perusahaan</th>\n",
       "      <th>Alamat</th>\n",
       "      <th>Wilayah</th>\n",
       "      <th>Isi Kiriman</th>\n",
       "      <th>SP</th>\n",
       "      <th>Biaya Kirim</th>\n",
       "      <th>Total</th>\n",
       "    </tr>\n",
       "  </thead>\n",
       "  <tbody>\n",
       "    <tr>\n",
       "      <th>1</th>\n",
       "      <td>Usaha/Kantor</td>\n",
       "      <td>JLN PROF DR SATRIO NO 164</td>\n",
       "      <td>Jakarta</td>\n",
       "      <td>Dokumen</td>\n",
       "      <td>PERIKLANAN</td>\n",
       "      <td>13000.0</td>\n",
       "      <td>13000.0</td>\n",
       "    </tr>\n",
       "    <tr>\n",
       "      <th>3</th>\n",
       "      <td>Usaha/Kantor</td>\n",
       "      <td>JL DURMAN RUKO NO 24 G BLKNG SMA 4 GARDYATI</td>\n",
       "      <td>Jawa Barat</td>\n",
       "      <td>Dokumen</td>\n",
       "      <td>PERIKLANAN</td>\n",
       "      <td>14000.0</td>\n",
       "      <td>14000.0</td>\n",
       "    </tr>\n",
       "    <tr>\n",
       "      <th>4</th>\n",
       "      <td>Usaha/Kantor</td>\n",
       "      <td>JLN TEUKU UMAR NO 20 RT 4/8</td>\n",
       "      <td>Banten</td>\n",
       "      <td>Paket</td>\n",
       "      <td>SPANDUK</td>\n",
       "      <td>14000.0</td>\n",
       "      <td>14000.0</td>\n",
       "    </tr>\n",
       "    <tr>\n",
       "      <th>5</th>\n",
       "      <td>Usaha/Kantor</td>\n",
       "      <td>JLN RAYA MAUK KM 7 CADAS</td>\n",
       "      <td>Banten</td>\n",
       "      <td>Paket</td>\n",
       "      <td>PROMO</td>\n",
       "      <td>14000.0</td>\n",
       "      <td>14000.0</td>\n",
       "    </tr>\n",
       "    <tr>\n",
       "      <th>7</th>\n",
       "      <td>Usaha/Kantor</td>\n",
       "      <td>JLN WARUNG JATI BARAT NO 22A</td>\n",
       "      <td>Jakarta</td>\n",
       "      <td>Paket</td>\n",
       "      <td>PERIKLANAN</td>\n",
       "      <td>13000.0</td>\n",
       "      <td>13000.0</td>\n",
       "    </tr>\n",
       "  </tbody>\n",
       "</table>\n",
       "</div>"
      ],
      "text/plain": [
       "     Perusahaan                                       Alamat     Wilayah  \\\n",
       "1  Usaha/Kantor                    JLN PROF DR SATRIO NO 164     Jakarta   \n",
       "3  Usaha/Kantor  JL DURMAN RUKO NO 24 G BLKNG SMA 4 GARDYATI  Jawa Barat   \n",
       "4  Usaha/Kantor                 JLN TEUKU UMAR NO 20 RT 4/8       Banten   \n",
       "5  Usaha/Kantor                    JLN RAYA MAUK KM 7 CADAS       Banten   \n",
       "7  Usaha/Kantor                JLN WARUNG JATI BARAT NO 22A      Jakarta   \n",
       "\n",
       "  Isi Kiriman          SP  Biaya Kirim    Total  \n",
       "1     Dokumen  PERIKLANAN      13000.0  13000.0  \n",
       "3     Dokumen  PERIKLANAN      14000.0  14000.0  \n",
       "4       Paket     SPANDUK      14000.0  14000.0  \n",
       "5       Paket       PROMO      14000.0  14000.0  \n",
       "7       Paket  PERIKLANAN      13000.0  13000.0  "
      ]
     },
     "execution_count": 620,
     "metadata": {},
     "output_type": "execute_result"
    }
   ],
   "source": [
    "df1.head()"
   ]
  },
  {
   "cell_type": "code",
   "execution_count": 622,
   "metadata": {},
   "outputs": [
    {
     "name": "stdout",
     "output_type": "stream",
     "text": [
      "<class 'pandas.core.frame.DataFrame'>\n",
      "Int64Index: 1439 entries, 1 to 2147\n",
      "Data columns (total 7 columns):\n",
      "Perusahaan     1439 non-null object\n",
      "Alamat         1439 non-null object\n",
      "Wilayah        1439 non-null object\n",
      "Isi Kiriman    1439 non-null object\n",
      "SP             1439 non-null object\n",
      "Biaya Kirim    1439 non-null float64\n",
      "Total          1439 non-null float64\n",
      "dtypes: float64(2), object(5)\n",
      "memory usage: 89.9+ KB\n"
     ]
    }
   ],
   "source": [
    "df1.info()"
   ]
  },
  {
   "cell_type": "code",
   "execution_count": 625,
   "metadata": {},
   "outputs": [],
   "source": [
    "def enum(df,x):\n",
    "    df[x]=df[x].astype('category')\n",
    "    df[x]=pd.factorize(df[x])[0]\n",
    "    \n",
    "enum(df1,'Perusahaan')\n",
    "enum(df1,'Alamat')\n",
    "enum(df1,'Wilayah')\n",
    "enum(df1,'Isi Kiriman')"
   ]
  },
  {
   "cell_type": "code",
   "execution_count": 627,
   "metadata": {},
   "outputs": [
    {
     "data": {
      "text/html": [
       "<div>\n",
       "<style scoped>\n",
       "    .dataframe tbody tr th:only-of-type {\n",
       "        vertical-align: middle;\n",
       "    }\n",
       "\n",
       "    .dataframe tbody tr th {\n",
       "        vertical-align: top;\n",
       "    }\n",
       "\n",
       "    .dataframe thead th {\n",
       "        text-align: right;\n",
       "    }\n",
       "</style>\n",
       "<table border=\"1\" class=\"dataframe\">\n",
       "  <thead>\n",
       "    <tr style=\"text-align: right;\">\n",
       "      <th></th>\n",
       "      <th>Perusahaan</th>\n",
       "      <th>Alamat</th>\n",
       "      <th>Wilayah</th>\n",
       "      <th>Isi Kiriman</th>\n",
       "      <th>SP</th>\n",
       "      <th>Biaya Kirim</th>\n",
       "      <th>Total</th>\n",
       "    </tr>\n",
       "  </thead>\n",
       "  <tbody>\n",
       "    <tr>\n",
       "      <th>1</th>\n",
       "      <td>0</td>\n",
       "      <td>0</td>\n",
       "      <td>0</td>\n",
       "      <td>0</td>\n",
       "      <td>PERIKLANAN</td>\n",
       "      <td>13000.0</td>\n",
       "      <td>13000.0</td>\n",
       "    </tr>\n",
       "    <tr>\n",
       "      <th>3</th>\n",
       "      <td>0</td>\n",
       "      <td>1</td>\n",
       "      <td>1</td>\n",
       "      <td>0</td>\n",
       "      <td>PERIKLANAN</td>\n",
       "      <td>14000.0</td>\n",
       "      <td>14000.0</td>\n",
       "    </tr>\n",
       "    <tr>\n",
       "      <th>4</th>\n",
       "      <td>0</td>\n",
       "      <td>2</td>\n",
       "      <td>2</td>\n",
       "      <td>1</td>\n",
       "      <td>SPANDUK</td>\n",
       "      <td>14000.0</td>\n",
       "      <td>14000.0</td>\n",
       "    </tr>\n",
       "    <tr>\n",
       "      <th>5</th>\n",
       "      <td>0</td>\n",
       "      <td>3</td>\n",
       "      <td>2</td>\n",
       "      <td>1</td>\n",
       "      <td>PROMO</td>\n",
       "      <td>14000.0</td>\n",
       "      <td>14000.0</td>\n",
       "    </tr>\n",
       "    <tr>\n",
       "      <th>7</th>\n",
       "      <td>0</td>\n",
       "      <td>4</td>\n",
       "      <td>0</td>\n",
       "      <td>1</td>\n",
       "      <td>PERIKLANAN</td>\n",
       "      <td>13000.0</td>\n",
       "      <td>13000.0</td>\n",
       "    </tr>\n",
       "  </tbody>\n",
       "</table>\n",
       "</div>"
      ],
      "text/plain": [
       "   Perusahaan  Alamat  Wilayah  Isi Kiriman          SP  Biaya Kirim    Total\n",
       "1           0       0        0            0  PERIKLANAN      13000.0  13000.0\n",
       "3           0       1        1            0  PERIKLANAN      14000.0  14000.0\n",
       "4           0       2        2            1     SPANDUK      14000.0  14000.0\n",
       "5           0       3        2            1       PROMO      14000.0  14000.0\n",
       "7           0       4        0            1  PERIKLANAN      13000.0  13000.0"
      ]
     },
     "execution_count": 627,
     "metadata": {},
     "output_type": "execute_result"
    }
   ],
   "source": [
    "df1.head()"
   ]
  },
  {
   "cell_type": "code",
   "execution_count": 628,
   "metadata": {},
   "outputs": [
    {
     "data": {
      "image/png": "[encoded data removed]",
      "text/plain": [
       "<Figure size 432x288 with 1 Axes>"
      ]
     },
     "metadata": {
      "needs_background": "light"
     },
     "output_type": "display_data"
    },
    {
     "data": {
      "image/png": "[encoded data removed]",
      "text/plain": [
       "<Figure size 432x288 with 1 Axes>"
      ]
     },
     "metadata": {
      "needs_background": "light"
     },
     "output_type": "display_data"
    }
   ],
   "source": [
    "#histogram and normal probability plot\n",
    "sns.distplot(df1['Total'], fit=norm);\n",
    "fig = plt.figure()\n",
    "res = stats.probplot(df1['Total'], plot=plt)"
   ]
  },
  {
   "cell_type": "code",
   "execution_count": 629,
   "metadata": {},
   "outputs": [],
   "source": [
    "df1 = df1.drop(df1[df1['Total'] > 100000].index)"
   ]
  },
  {
   "cell_type": "code",
   "execution_count": 630,
   "metadata": {},
   "outputs": [
    {
     "data": {
      "image/png": "[encoded data removed]",
      "text/plain": [
       "<Figure size 432x288 with 1 Axes>"
      ]
     },
     "metadata": {
      "needs_background": "light"
     },
     "output_type": "display_data"
    },
    {
     "data": {
      "image/png": "[encoded data removed]",
      "text/plain": [
       "<Figure size 432x288 with 1 Axes>"
      ]
     },
     "metadata": {
      "needs_background": "light"
     },
     "output_type": "display_data"
    }
   ],
   "source": [
    "#histogram and normal probability plot\n",
    "sns.distplot(df1['Total'], fit=norm);\n",
    "fig = plt.figure()\n",
    "res = stats.probplot(df1['Total'], plot=plt)"
   ]
  },
  {
   "cell_type": "code",
   "execution_count": 631,
   "metadata": {},
   "outputs": [
    {
     "name": "stdout",
     "output_type": "stream",
     "text": [
      "<class 'pandas.core.frame.DataFrame'>\n",
      "Int64Index: 1439 entries, 1 to 2147\n",
      "Data columns (total 7 columns):\n",
      "Perusahaan     1439 non-null int64\n",
      "Alamat         1439 non-null int64\n",
      "Wilayah        1439 non-null int64\n",
      "Isi Kiriman    1439 non-null int64\n",
      "SP             1439 non-null object\n",
      "Biaya Kirim    1439 non-null float64\n",
      "Total          1439 non-null float64\n",
      "dtypes: float64(2), int64(4), object(1)\n",
      "memory usage: 129.9+ KB\n"
     ]
    }
   ],
   "source": [
    "df.info()"
   ]
  },
  {
   "cell_type": "code",
   "execution_count": 632,
   "metadata": {},
   "outputs": [
    {
     "data": {
      "text/plain": [
       "<matplotlib.axes._subplots.AxesSubplot at 0x7f9ad742f9e8>"
      ]
     },
     "execution_count": 632,
     "metadata": {},
     "output_type": "execute_result"
    },
    {
     "data": {
      "image/png": "[encoded data removed]",
      "text/plain": [
       "<Figure size 720x720 with 2 Axes>"
      ]
     },
     "metadata": {
      "needs_background": "light"
     },
     "output_type": "display_data"
    }
   ],
   "source": [
    "f,ax = plt.subplots(figsize=(10, 10))\n",
    "sns.heatmap(df1.corr(), annot=True, linewidths=0.5, fmt= '.2f',ax=ax)"
   ]
  },
  {
   "cell_type": "code",
   "execution_count": 634,
   "metadata": {},
   "outputs": [],
   "source": [
    "X = df1[['Perusahaan', 'Alamat','Wilayah', 'Biaya Kirim', 'Total']]\n",
    "y = df1[['Isi Kiriman']]"
   ]
  },
  {
   "cell_type": "code",
   "execution_count": 635,
   "metadata": {},
   "outputs": [
    {
     "name": "stdout",
     "output_type": "stream",
     "text": [
      "(1126, 5) (282, 5) (1126, 1) (282, 5)\n"
     ]
    }
   ],
   "source": [
    "from sklearn.model_selection import train_test_split\n",
    "X_train, X_test, y_train, y_test = train_test_split(X, y, test_size=0.2, random_state=42)\n",
    "print(X_train.shape, X_test.shape, y_train.shape, X_test.shape)"
   ]
  },
  {
   "cell_type": "code",
   "execution_count": 682,
   "metadata": {},
   "outputs": [],
   "source": [
    "import pandas as pd\n",
    "import numpy as np\n",
    "from matplotlib import pyplot as plt\n",
    "import seaborn as sns\n",
    "from sklearn.feature_extraction.text import CountVectorizer\n",
    "from sklearn.model_selection import train_test_split\n",
    "from sklearn.metrics import accuracy_score, confusion_matrix, classification_report"
   ]
  },
  {
   "cell_type": "code",
   "execution_count": 684,
   "metadata": {},
   "outputs": [
    {
     "data": {
      "text/plain": [
       "0.42907801418439717"
      ]
     },
     "execution_count": 684,
     "metadata": {},
     "output_type": "execute_result"
    }
   ],
   "source": [
    "from sklearn.naive_bayes import MultinomialNB\n",
    "\n",
    "MNV = MultinomialNB()\n",
    "MNV.fit(X_train , y_train)\n",
    "y_pred = MNV.predict(X_test)\n",
    "accuracy_score(y_test,y_pred)"
   ]
  },
  {
   "cell_type": "code",
   "execution_count": 685,
   "metadata": {},
   "outputs": [
    {
     "name": "stdout",
     "output_type": "stream",
     "text": [
      "              precision    recall  f1-score   support\n",
      "\n",
      "           0       0.44      0.41      0.42       145\n",
      "           1       0.42      0.45      0.44       137\n",
      "\n",
      "   micro avg       0.43      0.43      0.43       282\n",
      "   macro avg       0.43      0.43      0.43       282\n",
      "weighted avg       0.43      0.43      0.43       282\n",
      "\n"
     ]
    }
   ],
   "source": [
    "print(classification_report(y_test, y_pred))"
   ]
  },
  {
   "cell_type": "code",
   "execution_count": 686,
   "metadata": {},
   "outputs": [
    {
     "data": {
      "text/plain": [
       "0.7411347517730497"
      ]
     },
     "execution_count": 686,
     "metadata": {},
     "output_type": "execute_result"
    }
   ],
   "source": [
    "from sklearn.ensemble import AdaBoostClassifier\n",
    "\n",
    "ADA = AdaBoostClassifier()\n",
    "ADA.fit(X_train,y_train)\n",
    "y_pred = ADA.predict(X_test)\n",
    "accuracy_score(y_test,y_pred)"
   ]
  },
  {
   "cell_type": "code",
   "execution_count": 687,
   "metadata": {},
   "outputs": [
    {
     "name": "stdout",
     "output_type": "stream",
     "text": [
      "              precision    recall  f1-score   support\n",
      "\n",
      "           0       0.76      0.72      0.74       145\n",
      "           1       0.72      0.76      0.74       137\n",
      "\n",
      "   micro avg       0.74      0.74      0.74       282\n",
      "   macro avg       0.74      0.74      0.74       282\n",
      "weighted avg       0.74      0.74      0.74       282\n",
      "\n"
     ]
    }
   ],
   "source": [
    "print(classification_report(y_test, y_pred))"
   ]
  },
  {
   "cell_type": "code",
   "execution_count": 688,
   "metadata": {},
   "outputs": [
    {
     "data": {
      "text/plain": [
       "0.6843971631205674"
      ]
     },
     "execution_count": 688,
     "metadata": {},
     "output_type": "execute_result"
    }
   ],
   "source": [
    "from sklearn import svm\n",
    "svm = svm.SVC(gamma='auto')\n",
    "svm.fit(X_train , y_train)\n",
    "y_pred = svm.predict(X_test)\n",
    "accuracy_score(y_test,y_pred)"
   ]
  },
  {
   "cell_type": "code",
   "execution_count": 689,
   "metadata": {},
   "outputs": [
    {
     "name": "stdout",
     "output_type": "stream",
     "text": [
      "              precision    recall  f1-score   support\n",
      "\n",
      "           0       0.80      0.51      0.62       145\n",
      "           1       0.63      0.87      0.73       137\n",
      "\n",
      "   micro avg       0.68      0.68      0.68       282\n",
      "   macro avg       0.72      0.69      0.68       282\n",
      "weighted avg       0.72      0.68      0.67       282\n",
      "\n"
     ]
    }
   ],
   "source": [
    "print(classification_report(y_test, y_pred))"
   ]
  },
  {
   "cell_type": "code",
   "execution_count": 690,
   "metadata": {},
   "outputs": [
    {
     "data": {
      "text/plain": [
       "0.5141843971631206"
      ]
     },
     "execution_count": 690,
     "metadata": {},
     "output_type": "execute_result"
    }
   ],
   "source": [
    "from sklearn.linear_model import SGDClassifier\n",
    "\n",
    "sdg = SGDClassifier(loss=\"hinge\", penalty=\"l2\", max_iter=5)\n",
    "sdg.fit(X_train , y_train)\n",
    "y_pred = sdg.predict(X_test)\n",
    "accuracy_score(y_test,y_pred)"
   ]
  },
  {
   "cell_type": "code",
   "execution_count": 691,
   "metadata": {},
   "outputs": [
    {
     "name": "stdout",
     "output_type": "stream",
     "text": [
      "              precision    recall  f1-score   support\n",
      "\n",
      "           0       0.51      1.00      0.68       145\n",
      "           1       0.00      0.00      0.00       137\n",
      "\n",
      "   micro avg       0.51      0.51      0.51       282\n",
      "   macro avg       0.26      0.50      0.34       282\n",
      "weighted avg       0.26      0.51      0.35       282\n",
      "\n"
     ]
    }
   ],
   "source": [
    "print(classification_report(y_test, y_pred))"
   ]
  },
  {
   "cell_type": "code",
   "execution_count": 692,
   "metadata": {},
   "outputs": [
    {
     "data": {
      "text/plain": [
       "0.5851063829787234"
      ]
     },
     "execution_count": 692,
     "metadata": {},
     "output_type": "execute_result"
    }
   ],
   "source": [
    "from sklearn.neighbors.nearest_centroid import NearestCentroid\n",
    "\n",
    "NC = NearestCentroid()\n",
    "NC.fit(X_train , y_train)\n",
    "y_pred = NC.predict(X_test)\n",
    "accuracy_score(y_test,y_pred)"
   ]
  },
  {
   "cell_type": "code",
   "execution_count": 693,
   "metadata": {},
   "outputs": [
    {
     "name": "stdout",
     "output_type": "stream",
     "text": [
      "              precision    recall  f1-score   support\n",
      "\n",
      "           0       0.56      0.87      0.68       145\n",
      "           1       0.67      0.28      0.40       137\n",
      "\n",
      "   micro avg       0.59      0.59      0.59       282\n",
      "   macro avg       0.62      0.58      0.54       282\n",
      "weighted avg       0.62      0.59      0.55       282\n",
      "\n"
     ]
    }
   ],
   "source": [
    "print(classification_report(y_test, y_pred))"
   ]
  },
  {
   "cell_type": "code",
   "execution_count": 694,
   "metadata": {},
   "outputs": [
    {
     "data": {
      "text/plain": [
       "0.7163120567375887"
      ]
     },
     "execution_count": 694,
     "metadata": {},
     "output_type": "execute_result"
    }
   ],
   "source": [
    "from sklearn import tree\n",
    "\n",
    "DT = tree.DecisionTreeClassifier()\n",
    "DT.fit(X_train , y_train)\n",
    "y_pred = DT.predict(X_test)\n",
    "accuracy_score(y_test,y_pred)"
   ]
  },
  {
   "cell_type": "code",
   "execution_count": 695,
   "metadata": {},
   "outputs": [
    {
     "name": "stdout",
     "output_type": "stream",
     "text": [
      "              precision    recall  f1-score   support\n",
      "\n",
      "           0       0.71      0.77      0.74       145\n",
      "           1       0.73      0.66      0.69       137\n",
      "\n",
      "   micro avg       0.72      0.72      0.72       282\n",
      "   macro avg       0.72      0.71      0.71       282\n",
      "weighted avg       0.72      0.72      0.72       282\n",
      "\n"
     ]
    }
   ],
   "source": [
    "print(classification_report(y_test, y_pred))"
   ]
  },
  {
   "cell_type": "code",
   "execution_count": 696,
   "metadata": {},
   "outputs": [
    {
     "data": {
      "text/plain": [
       "0.7659574468085106"
      ]
     },
     "execution_count": 696,
     "metadata": {},
     "output_type": "execute_result"
    }
   ],
   "source": [
    "from sklearn.ensemble import GradientBoostingClassifier\n",
    "\n",
    "GB = GradientBoostingClassifier(n_estimators=100, learning_rate=1.0, max_depth=1, random_state=0).fit(X_train, y_train)\n",
    "GB.fit(X_train , y_train)\n",
    "y_pred = GB.predict(X_test)\n",
    "accuracy_score(y_test,y_pred)"
   ]
  },
  {
   "cell_type": "code",
   "execution_count": 697,
   "metadata": {},
   "outputs": [
    {
     "name": "stdout",
     "output_type": "stream",
     "text": [
      "              precision    recall  f1-score   support\n",
      "\n",
      "           0       0.78      0.75      0.77       145\n",
      "           1       0.75      0.78      0.76       137\n",
      "\n",
      "   micro avg       0.77      0.77      0.77       282\n",
      "   macro avg       0.77      0.77      0.77       282\n",
      "weighted avg       0.77      0.77      0.77       282\n",
      "\n"
     ]
    }
   ],
   "source": [
    "print(classification_report(y_test, y_pred))"
   ]
  },
  {
   "cell_type": "code",
   "execution_count": 678,
   "metadata": {},
   "outputs": [
    {
     "data": {
      "text/plain": [
       "0.5141843971631206"
      ]
     },
     "execution_count": 678,
     "metadata": {},
     "output_type": "execute_result"
    }
   ],
   "source": [
    "from sklearn.neural_network import MLPClassifier\n",
    "\n",
    "MLP = MLPClassifier(solver='lbfgs', alpha=1e-5,   hidden_layer_sizes=(30, 30, 30), random_state=0)\n",
    "MLP.fit(X_train , y_train)\n",
    "y_pred = MLP.predict(X_test)\n",
    "accuracy_score(y_test,y_pred)"
   ]
  },
  {
   "cell_type": "code",
   "execution_count": 698,
   "metadata": {},
   "outputs": [
    {
     "name": "stdout",
     "output_type": "stream",
     "text": [
      "              precision    recall  f1-score   support\n",
      "\n",
      "           0       0.78      0.75      0.77       145\n",
      "           1       0.75      0.78      0.76       137\n",
      "\n",
      "   micro avg       0.77      0.77      0.77       282\n",
      "   macro avg       0.77      0.77      0.77       282\n",
      "weighted avg       0.77      0.77      0.77       282\n",
      "\n"
     ]
    }
   ],
   "source": [
    "print(classification_report(y_test, y_pred))"
   ]
  },
  {
   "cell_type": "code",
   "execution_count": 699,
   "metadata": {},
   "outputs": [
    {
     "data": {
      "text/plain": [
       "0.7304964539007093"
      ]
     },
     "execution_count": 699,
     "metadata": {},
     "output_type": "execute_result"
    }
   ],
   "source": [
    "from sklearn.ensemble import RandomForestClassifier\n",
    "\n",
    "RF = RandomForestClassifier(n_estimators=10, max_depth=None, min_samples_split=2, random_state=0)\n",
    "RF.fit(X_train , y_train)\n",
    "y_pred = RF.predict(X_test)\n",
    "accuracy_score(y_test,y_pred)"
   ]
  },
  {
   "cell_type": "code",
   "execution_count": 700,
   "metadata": {},
   "outputs": [
    {
     "name": "stdout",
     "output_type": "stream",
     "text": [
      "              precision    recall  f1-score   support\n",
      "\n",
      "           0       0.73      0.76      0.74       145\n",
      "           1       0.73      0.70      0.72       137\n",
      "\n",
      "   micro avg       0.73      0.73      0.73       282\n",
      "   macro avg       0.73      0.73      0.73       282\n",
      "weighted avg       0.73      0.73      0.73       282\n",
      "\n"
     ]
    }
   ],
   "source": [
    "print(classification_report(y_test, y_pred))"
   ]
  },
  {
   "cell_type": "code",
   "execution_count": 702,
   "metadata": {},
   "outputs": [
    {
     "data": {
      "text/html": [
       "<div>\n",
       "<style scoped>\n",
       "    .dataframe tbody tr th:only-of-type {\n",
       "        vertical-align: middle;\n",
       "    }\n",
       "\n",
       "    .dataframe tbody tr th {\n",
       "        vertical-align: top;\n",
       "    }\n",
       "\n",
       "    .dataframe thead th {\n",
       "        text-align: right;\n",
       "    }\n",
       "</style>\n",
       "<table border=\"1\" class=\"dataframe\">\n",
       "  <thead>\n",
       "    <tr style=\"text-align: right;\">\n",
       "      <th></th>\n",
       "      <th>Perusahaan</th>\n",
       "      <th>Alamat</th>\n",
       "      <th>Wilayah</th>\n",
       "      <th>Isi Kiriman</th>\n",
       "      <th>SP</th>\n",
       "      <th>Biaya Kirim</th>\n",
       "      <th>Total</th>\n",
       "    </tr>\n",
       "  </thead>\n",
       "  <tbody>\n",
       "    <tr>\n",
       "      <th>1</th>\n",
       "      <td>0</td>\n",
       "      <td>0</td>\n",
       "      <td>0</td>\n",
       "      <td>0</td>\n",
       "      <td>PERIKLANAN</td>\n",
       "      <td>13000.0</td>\n",
       "      <td>13000.0</td>\n",
       "    </tr>\n",
       "    <tr>\n",
       "      <th>3</th>\n",
       "      <td>0</td>\n",
       "      <td>1</td>\n",
       "      <td>1</td>\n",
       "      <td>0</td>\n",
       "      <td>PERIKLANAN</td>\n",
       "      <td>14000.0</td>\n",
       "      <td>14000.0</td>\n",
       "    </tr>\n",
       "    <tr>\n",
       "      <th>4</th>\n",
       "      <td>0</td>\n",
       "      <td>2</td>\n",
       "      <td>2</td>\n",
       "      <td>1</td>\n",
       "      <td>SPANDUK</td>\n",
       "      <td>14000.0</td>\n",
       "      <td>14000.0</td>\n",
       "    </tr>\n",
       "    <tr>\n",
       "      <th>5</th>\n",
       "      <td>0</td>\n",
       "      <td>3</td>\n",
       "      <td>2</td>\n",
       "      <td>1</td>\n",
       "      <td>PROMO</td>\n",
       "      <td>14000.0</td>\n",
       "      <td>14000.0</td>\n",
       "    </tr>\n",
       "    <tr>\n",
       "      <th>7</th>\n",
       "      <td>0</td>\n",
       "      <td>4</td>\n",
       "      <td>0</td>\n",
       "      <td>1</td>\n",
       "      <td>PERIKLANAN</td>\n",
       "      <td>13000.0</td>\n",
       "      <td>13000.0</td>\n",
       "    </tr>\n",
       "  </tbody>\n",
       "</table>\n",
       "</div>"
      ],
      "text/plain": [
       "   Perusahaan  Alamat  Wilayah  Isi Kiriman          SP  Biaya Kirim    Total\n",
       "1           0       0        0            0  PERIKLANAN      13000.0  13000.0\n",
       "3           0       1        1            0  PERIKLANAN      14000.0  14000.0\n",
       "4           0       2        2            1     SPANDUK      14000.0  14000.0\n",
       "5           0       3        2            1       PROMO      14000.0  14000.0\n",
       "7           0       4        0            1  PERIKLANAN      13000.0  13000.0"
      ]
     },
     "execution_count": 702,
     "metadata": {},
     "output_type": "execute_result"
    }
   ],
   "source": [
    "df1.head()"
   ]
  },
  {
   "cell_type": "code",
   "execution_count": 703,
   "metadata": {},
   "outputs": [],
   "source": [
    "enum(df1,'SP')"
   ]
  },
  {
   "cell_type": "code",
   "execution_count": 705,
   "metadata": {},
   "outputs": [
    {
     "data": {
      "text/html": [
       "<div>\n",
       "<style scoped>\n",
       "    .dataframe tbody tr th:only-of-type {\n",
       "        vertical-align: middle;\n",
       "    }\n",
       "\n",
       "    .dataframe tbody tr th {\n",
       "        vertical-align: top;\n",
       "    }\n",
       "\n",
       "    .dataframe thead th {\n",
       "        text-align: right;\n",
       "    }\n",
       "</style>\n",
       "<table border=\"1\" class=\"dataframe\">\n",
       "  <thead>\n",
       "    <tr style=\"text-align: right;\">\n",
       "      <th></th>\n",
       "      <th>Perusahaan</th>\n",
       "      <th>Alamat</th>\n",
       "      <th>Wilayah</th>\n",
       "      <th>Isi Kiriman</th>\n",
       "      <th>SP</th>\n",
       "      <th>Biaya Kirim</th>\n",
       "      <th>Total</th>\n",
       "    </tr>\n",
       "  </thead>\n",
       "  <tbody>\n",
       "    <tr>\n",
       "      <th>1</th>\n",
       "      <td>0</td>\n",
       "      <td>0</td>\n",
       "      <td>0</td>\n",
       "      <td>0</td>\n",
       "      <td>0</td>\n",
       "      <td>13000.0</td>\n",
       "      <td>13000.0</td>\n",
       "    </tr>\n",
       "    <tr>\n",
       "      <th>3</th>\n",
       "      <td>0</td>\n",
       "      <td>1</td>\n",
       "      <td>1</td>\n",
       "      <td>0</td>\n",
       "      <td>0</td>\n",
       "      <td>14000.0</td>\n",
       "      <td>14000.0</td>\n",
       "    </tr>\n",
       "    <tr>\n",
       "      <th>4</th>\n",
       "      <td>0</td>\n",
       "      <td>2</td>\n",
       "      <td>2</td>\n",
       "      <td>1</td>\n",
       "      <td>1</td>\n",
       "      <td>14000.0</td>\n",
       "      <td>14000.0</td>\n",
       "    </tr>\n",
       "    <tr>\n",
       "      <th>5</th>\n",
       "      <td>0</td>\n",
       "      <td>3</td>\n",
       "      <td>2</td>\n",
       "      <td>1</td>\n",
       "      <td>2</td>\n",
       "      <td>14000.0</td>\n",
       "      <td>14000.0</td>\n",
       "    </tr>\n",
       "    <tr>\n",
       "      <th>7</th>\n",
       "      <td>0</td>\n",
       "      <td>4</td>\n",
       "      <td>0</td>\n",
       "      <td>1</td>\n",
       "      <td>0</td>\n",
       "      <td>13000.0</td>\n",
       "      <td>13000.0</td>\n",
       "    </tr>\n",
       "  </tbody>\n",
       "</table>\n",
       "</div>"
      ],
      "text/plain": [
       "   Perusahaan  Alamat  Wilayah  Isi Kiriman  SP  Biaya Kirim    Total\n",
       "1           0       0        0            0   0      13000.0  13000.0\n",
       "3           0       1        1            0   0      14000.0  14000.0\n",
       "4           0       2        2            1   1      14000.0  14000.0\n",
       "5           0       3        2            1   2      14000.0  14000.0\n",
       "7           0       4        0            1   0      13000.0  13000.0"
      ]
     },
     "execution_count": 705,
     "metadata": {},
     "output_type": "execute_result"
    }
   ],
   "source": [
    "df1.head()"
   ]
  },
  {
   "cell_type": "code",
   "execution_count": 709,
   "metadata": {},
   "outputs": [],
   "source": [
    "df1.to_csv('prepo.csv', sep=',')"
   ]
  },
  {
   "cell_type": "code",
   "execution_count": 710,
   "metadata": {},
   "outputs": [
    {
     "name": "stdout",
     "output_type": "stream",
     "text": [
      "<class 'pandas.core.frame.DataFrame'>\n",
      "Int64Index: 1408 entries, 1 to 2147\n",
      "Data columns (total 7 columns):\n",
      "Perusahaan     1408 non-null int64\n",
      "Alamat         1408 non-null int64\n",
      "Wilayah        1408 non-null int64\n",
      "Isi Kiriman    1408 non-null int64\n",
      "SP             1408 non-null int64\n",
      "Biaya Kirim    1408 non-null float64\n",
      "Total          1408 non-null float64\n",
      "dtypes: float64(2), int64(5)\n",
      "memory usage: 88.0 KB\n"
     ]
    }
   ],
   "source": [
    "df1.info()"
   ]
  },
  {
   "cell_type": "code",
   "execution_count": 711,
   "metadata": {},
   "outputs": [
    {
     "data": {
      "text/plain": [
       "Perusahaan        2\n",
       "Alamat         1041\n",
       "Wilayah          28\n",
       "Isi Kiriman       2\n",
       "SP                4\n",
       "Biaya Kirim      70\n",
       "Total            97\n",
       "dtype: int64"
      ]
     },
     "execution_count": 711,
     "metadata": {},
     "output_type": "execute_result"
    }
   ],
   "source": [
    "df1.nunique()"
   ]
  },
  {
   "cell_type": "code",
   "execution_count": 714,
   "metadata": {},
   "outputs": [
    {
     "data": {
      "text/html": [
       "<div>\n",
       "<style scoped>\n",
       "    .dataframe tbody tr th:only-of-type {\n",
       "        vertical-align: middle;\n",
       "    }\n",
       "\n",
       "    .dataframe tbody tr th {\n",
       "        vertical-align: top;\n",
       "    }\n",
       "\n",
       "    .dataframe thead th {\n",
       "        text-align: right;\n",
       "    }\n",
       "</style>\n",
       "<table border=\"1\" class=\"dataframe\">\n",
       "  <thead>\n",
       "    <tr style=\"text-align: right;\">\n",
       "      <th></th>\n",
       "      <th>Perusahaan</th>\n",
       "      <th>Alamat</th>\n",
       "      <th>Wilayah</th>\n",
       "      <th>Isi Kiriman</th>\n",
       "      <th>SP</th>\n",
       "      <th>Biaya Kirim</th>\n",
       "      <th>Total</th>\n",
       "    </tr>\n",
       "  </thead>\n",
       "  <tbody>\n",
       "    <tr>\n",
       "      <th>2142</th>\n",
       "      <td>1</td>\n",
       "      <td>1066</td>\n",
       "      <td>0</td>\n",
       "      <td>1</td>\n",
       "      <td>2</td>\n",
       "      <td>14000.0</td>\n",
       "      <td>14000.0</td>\n",
       "    </tr>\n",
       "    <tr>\n",
       "      <th>2143</th>\n",
       "      <td>1</td>\n",
       "      <td>1067</td>\n",
       "      <td>0</td>\n",
       "      <td>1</td>\n",
       "      <td>1</td>\n",
       "      <td>28000.0</td>\n",
       "      <td>28000.0</td>\n",
       "    </tr>\n",
       "    <tr>\n",
       "      <th>2144</th>\n",
       "      <td>1</td>\n",
       "      <td>1068</td>\n",
       "      <td>2</td>\n",
       "      <td>1</td>\n",
       "      <td>0</td>\n",
       "      <td>15000.0</td>\n",
       "      <td>15000.0</td>\n",
       "    </tr>\n",
       "    <tr>\n",
       "      <th>2146</th>\n",
       "      <td>0</td>\n",
       "      <td>282</td>\n",
       "      <td>2</td>\n",
       "      <td>0</td>\n",
       "      <td>1</td>\n",
       "      <td>15000.0</td>\n",
       "      <td>15000.0</td>\n",
       "    </tr>\n",
       "    <tr>\n",
       "      <th>2147</th>\n",
       "      <td>1</td>\n",
       "      <td>1069</td>\n",
       "      <td>1</td>\n",
       "      <td>0</td>\n",
       "      <td>0</td>\n",
       "      <td>15000.0</td>\n",
       "      <td>15000.0</td>\n",
       "    </tr>\n",
       "  </tbody>\n",
       "</table>\n",
       "</div>"
      ],
      "text/plain": [
       "      Perusahaan  Alamat  Wilayah  Isi Kiriman  SP  Biaya Kirim    Total\n",
       "2142           1    1066        0            1   2      14000.0  14000.0\n",
       "2143           1    1067        0            1   1      28000.0  28000.0\n",
       "2144           1    1068        2            1   0      15000.0  15000.0\n",
       "2146           0     282        2            0   1      15000.0  15000.0\n",
       "2147           1    1069        1            0   0      15000.0  15000.0"
      ]
     },
     "execution_count": 714,
     "metadata": {},
     "output_type": "execute_result"
    }
   ],
   "source": [
    "df1.tail()"
   ]
  },
  {
   "cell_type": "code",
   "execution_count": null,
   "metadata": {},
   "outputs": [],
   "source": []
  }
 ],
 "metadata": {
  "kernelspec": {
   "display_name": "Python 3",
   "language": "python",
   "name": "python3"
  },
  "language_info": {
   "codemirror_mode": {
    "name": "ipython",
    "version": 3
   },
   "file_extension": ".py",
   "mimetype": "text/x-python",
   "name": "python",
   "nbconvert_exporter": "python",
   "pygments_lexer": "ipython3",
   "version": "3.6.6"
  }
 },
 "nbformat": 4,
 "nbformat_minor": 2
}
